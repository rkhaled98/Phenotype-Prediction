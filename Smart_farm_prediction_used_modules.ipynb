{
 "cells": [
  {
   "cell_type": "code",
   "execution_count": null,
   "metadata": {},
   "outputs": [],
   "source": [
    "# READ IN THE CSV\n",
    "\n",
    "import pandas as pd\n",
    "import numpy as np\n",
    "\n",
    "df_sf = pd.read_csv('Smart_Farm_dataset.csv')"
   ]
  },
  {
   "cell_type": "code",
   "execution_count": null,
   "metadata": {},
   "outputs": [],
   "source": [
    "# DO ANY PRE OBSERVATION HERE\n",
    "\n",
    "df_sf"
   ]
  },
  {
   "cell_type": "code",
   "execution_count": null,
   "metadata": {},
   "outputs": [],
   "source": [
    "# ONE HOT REPRESENT (PREVIOUSLY) STRING ENCODED LOC AND GEN COLUMNS\n",
    "\n",
    "df_sf = pd.concat([df_sf, pd.get_dummies(df_sf['Loc'])], axis=1)\n",
    "df_sf = pd.concat([df_sf, pd.get_dummies(df_sf['Gen'])], axis=1)\n",
    "\n",
    "# DROP ANY COLUMNS HERE\n",
    "COLUMNS_DROPPED = ['Date', 'Loc', 'Gen', 'PlantID']\n",
    "df_sf = df_sf.drop(COLUMNS_DROPPED, axis=1)"
   ]
  },
  {
   "cell_type": "code",
   "execution_count": null,
   "metadata": {},
   "outputs": [],
   "source": [
    "# TRAIN AND TEST SPLIT\n",
    "\n",
    "X_train = pd.DataFrame()\n",
    "y_train = np.array([])\n",
    "X_test = pd.DataFrame()\n",
    "y_test = np.array([])\n",
    "\n",
    "true_index_counter = -1\n",
    "for i in range (0, int(len(df_sf)/100)):\n",
    "    for k in range (1, 101):\n",
    "        true_index_counter += 1\n",
    "        if k <= 95:\n",
    "            X_train = X_train.append(df_sf.loc[true_index_counter].drop(['GrowthRate']))\n",
    "            y_train = np.append(y_train, df_sf.loc[true_index_counter, 'GrowthRate'])\n",
    "        else:\n",
    "            X_test = X_test.append(df_sf.loc[true_index_counter].drop(['GrowthRate']))\n",
    "            y_test = np.append(y_test, df_sf.loc[true_index_counter, 'GrowthRate'])\n"
   ]
  },
  {
   "cell_type": "code",
   "execution_count": null,
   "metadata": {},
   "outputs": [],
   "source": [
    "# ERROR COMPUTATION FUNCTIONS\n",
    "\n",
    "from sklearn.metrics import mean_squared_error\n",
    "def evaluate_errors(prediction, actual):\n",
    "    print(\"RMSE Error: \", np.sqrt(mean_squared_error(prediction, actual)))\n",
    "    avg_error_vector = np.absolute(((preds - y_test) / y_test) * 100)\n",
    "    print(\"Average Error details:\\n\", avg_error_vector.describe())\n",
    "    return avg_error_vector"
   ]
  },
  {
   "cell_type": "code",
   "execution_count": null,
   "metadata": {},
   "outputs": [],
   "source": [
    "# FEATURE IMPORTANCE FUNCTIONS\n",
    "\n",
    "def get_feature_importances(regr):\n",
    "    feature_importances = regr.feature_importances_\n",
    "    feature_importances = pd.Series(feature_importances)\n",
    "    feature_importance_df = pd.DataFrame({'feature': X_train.columns,'feature_importance': feature_importances})\n",
    "    feature_importance_df = feature_importance_df.sort_values(by=['feature_importance'])\n",
    "    for index, row in feature_importance_df.iterrows():\n",
    "        print(row['feature'], 'has importance: ', row['feature_importance'])"
   ]
  },
  {
   "cell_type": "code",
   "execution_count": null,
   "metadata": {},
   "outputs": [],
   "source": [
    "# MODELS RF\n",
    "\n",
    "from sklearn.ensemble import RandomForestRegressor\n",
    "regr = RandomForestRegressor(n_estimators=20, max_depth=13, random_state=0, verbose=1, n_jobs=-1)\n",
    "regr.fit(X_train, y_train)\n",
    "preds = regr.predict(X_test)\n",
    "\n",
    "preds = pd.DataFrame(preds)\n",
    "y_test = pd.DataFrame(y_test)\n",
    "evaluate_errors(preds, y_test)\n",
    "get_feature_importances(regr)"
   ]
  },
  {
   "cell_type": "code",
   "execution_count": null,
   "metadata": {},
   "outputs": [],
   "source": [
    "# MODELS LIGHTGBM\n",
    "\n",
    "from lightgbm import LGBMRegressor\n",
    "\n",
    "clf = LGBMRegressor(n_estimators=1000, learning_rate=0.01)\n",
    "clf.fit(X_train, np.log1p(y_train))\n",
    "preds = np.expm1(clf.predict(X_test))\n",
    "\n",
    "preds = pd.DataFrame(preds)\n",
    "y_test = pd.DataFrame(y_test)\n",
    "\n",
    "evaluate_errors(preds, y_test)"
   ]
  }
 ],
 "metadata": {
  "kernelspec": {
   "display_name": "Python 3",
   "language": "python",
   "name": "python3"
  },
  "language_info": {
   "codemirror_mode": {
    "name": "ipython",
    "version": 3
   },
   "file_extension": ".py",
   "mimetype": "text/x-python",
   "name": "python",
   "nbconvert_exporter": "python",
   "pygments_lexer": "ipython3",
   "version": "3.5.2"
  }
 },
 "nbformat": 4,
 "nbformat_minor": 2
}
