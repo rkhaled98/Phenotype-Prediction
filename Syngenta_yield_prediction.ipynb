{
 "cells": [
  {
   "cell_type": "code",
   "execution_count": 1,
   "metadata": {},
   "outputs": [],
   "source": [
    "import pandas as pd\n",
    "import numpy as np\n",
    "\n",
    "# READ THE CSV INTO DATAFRAME\n",
    "\n",
    "df = pd.read_csv('Syngenta/Syngenta_2017/Experiment_dataset.csv')\n",
    "# df2 = pd.read_csv('Syngenta/Syngenta_2017/Region_dataset.csv')"
   ]
  },
  {
   "cell_type": "code",
   "execution_count": null,
   "metadata": {},
   "outputs": [],
   "source": [
    "# SEE SOME OPTIONAL INFORMATION ABOUT THE DATAFRAME\n",
    "\n",
    "# print(df.head())\n",
    "# print(df.describe())\n",
    "print(df)\n",
    "print(df.Variety.unique(), \"\\nthere are \", len(df.Variety.unique()), \" unique varieties\")"
   ]
  },
  {
   "cell_type": "code",
   "execution_count": null,
   "metadata": {},
   "outputs": [],
   "source": [
    "# OPTIONAL CORRELATION CHECKER\n",
    "\n",
    "from sklearn import preprocessing\n",
    "\n",
    "# x = df.values #returns a numpy array\n",
    "# min_max_scaler = preprocessing.MinMaxScaler()\n",
    "# x_scaled = min_max_scaler.fit_transform(x)\n",
    "# df = pandas.DataFrame(x_scaled)\n",
    "\n",
    "#these were selected mainly due to their dtype\n",
    "df_potential_columns = df.drop(['Experiment', 'Location', 'Planting date', 'Check Yield', 'Yield difference', 'Latitude', 'Longitude', 'Variety', 'PI'], axis=1).columns\n",
    "# potential_feature_columns = ['Location', 'Temperature', 'Precipitation', 'Solar Radiation', 'Soil class', 'CEC', 'pH', 'Clay', 'Silt', 'Sand', 'Area']\n",
    "# print(potential_feature_columns)\n",
    "potential_output_column = df.Yield\n",
    "\n",
    "new_df = df.loc[:, df_potential_columns]\n",
    "print(new_df.columns)\n",
    "\n",
    "potential_X = df.loc[:, df_potential_columns].values\n",
    "min_max_scaler = preprocessing.MinMaxScaler()\n",
    "x_scaled = min_max_scaler.fit_transform(potential_X)\n",
    "potential_y = potential_output_column\n",
    "df2 = pd.DataFrame(x_scaled)\n",
    "print(df2)\n",
    "\n",
    "for x in df2:\n",
    "    print(\"%s has correlation %s with yield\" % (df.loc[:, df_potential_columns].iloc[:, x].name, np.correlate(df2[x], potential_y)))"
   ]
  },
  {
   "cell_type": "code",
   "execution_count": null,
   "metadata": {},
   "outputs": [],
   "source": [
    "# CURRENTLY UNUSED OPTIONAL ONEHOT ENCODER\n",
    "\n",
    "from sklearn.preprocessing import LabelEncoder\n",
    "from pandas import Series\n",
    "le = LabelEncoder()\n",
    "integer_encoded = le.fit_transform(df.Variety)\n",
    "# le.classes_\n",
    "\n",
    "\n",
    "from sklearn.preprocessing import OneHotEncoder\n",
    "\n",
    "onehot_encoder = OneHotEncoder(sparse=False)\n",
    "integer_encoded = integer_encoded.reshape(len(integer_encoded), 1)\n",
    "onehot_encoded = onehot_encoder.fit_transform(integer_encoded)\n",
    "\n",
    "print(onehot_encoded)\n",
    "\n",
    "# df['VarietyEncode'] = onehot_encoded\n",
    "# print(pd.get_dummies(df.Variety))\n",
    "# print(df.Variety)\n",
    "    \n",
    "from numpy import argmax\n",
    "inverted = le.inverse_transform([argmax(onehot_encoded[300, :])])\n",
    "print([argmax(onehot_encoded[300, :])])\n",
    "verted = le.transform(['V150834'])\n",
    "print(inverted)\n",
    "# inverted = le.inverse_transform([df.])\n",
    "# print(inverted)"
   ]
  },
  {
   "cell_type": "code",
   "execution_count": null,
   "metadata": {},
   "outputs": [],
   "source": [
    "# OPTIONAL USED FROM CONVERTING EACH VARIETY TO A ONE HOT\n",
    "\n",
    "def convert_variety_to_one_hot(variety):\n",
    "    return onehot_encoded[le.transform([variety])]"
   ]
  },
  {
   "cell_type": "code",
   "execution_count": null,
   "metadata": {},
   "outputs": [],
   "source": [
    "# OPTIONAL APPLY ABOVE FUNCTION TO REPLACE EACH ROW IN VARIETY COLUMN WITH ONE HOT REPRESENTATION\n",
    "\n",
    "df.Variety = df.Variety.apply(lambda val: convert_variety_to_one_hot(val))\n",
    "\n",
    "# OPTIONAL RESHAPE\n",
    "df.Variety = df.Variety.apply(lambda val: val.reshape(174))"
   ]
  },
  {
   "cell_type": "code",
   "execution_count": null,
   "metadata": {},
   "outputs": [],
   "source": [
    "# THIS IS A DIFFERENT APPROACH TO THE ABOVE FOUR CELLS, WHERE WE HAVE 174 ADDITIONAL FEATURE COLUMNS\n",
    "# EACH WITH A 0 (IF IT IS NOT OF THAT VARIETY) OR A 1 (IF IT IS OF THAT VARIETY)\n",
    "\n",
    "# print(df)\n",
    "dummies = pd.get_dummies(df.Variety)\n",
    "# print(dummies)\n",
    "df = pd.concat([df, dummies], axis=1)\n",
    "print(df)"
   ]
  },
  {
   "cell_type": "code",
   "execution_count": null,
   "metadata": {},
   "outputs": [],
   "source": [
    "print(df.head)"
   ]
  },
  {
   "cell_type": "code",
   "execution_count": null,
   "metadata": {},
   "outputs": [],
   "source": [
    "# ORIGINAL COLUMNS! WE WANT TO PICK ONES THAT ARE GOOD FOR OUR LEARNING ALGORITHM AND DROP THE REST IN THE\n",
    "# FOLLOWING CELL\n",
    "\n",
    "for col in df.columns:\n",
    "    print(col, type(df[col][0]))"
   ]
  },
  {
   "cell_type": "code",
   "execution_count": 2,
   "metadata": {},
   "outputs": [],
   "source": [
    "# DROP ALL THE CELLS THAT ARE NOT USABLE SUCH AS THE ONES THAT ARE STRINGS OR DATES\n",
    "\n",
    "df = df.drop(['Experiment', 'Location', 'Planting date', 'Check Yield', 'Yield difference', 'Latitude', 'Longitude', 'Variety', 'PI'], axis=1)\n",
    "df['YieldBucket'] = pd.Series(pd.qcut(df.Yield, q=3, labels=[\"high\", \"medium\", \"low\"]))\n"
   ]
  },
  {
   "cell_type": "code",
   "execution_count": null,
   "metadata": {},
   "outputs": [],
   "source": [
    "print(df.YieldBucket)"
   ]
  },
  {
   "cell_type": "code",
   "execution_count": null,
   "metadata": {},
   "outputs": [],
   "source": [
    "# LET US ALSO MAKE SURE THERE ARE NO NAN IN THE DATA\n",
    "print(\"We expect to be %s nan values and there actually are %s nan values\\n\" % (0, np.sum(df.isnull().sum())))\n",
    "# AFTER COLUMNS, MAKE SURE NO SKETCHY ONES\n",
    "for col in df.columns:\n",
    "    print(col, type(df[col][0]))    "
   ]
  },
  {
   "cell_type": "code",
   "execution_count": 3,
   "metadata": {},
   "outputs": [
    {
     "name": "stdout",
     "output_type": "stream",
     "text": [
      "Index(['Year', 'Temperature', 'Precipitation', 'Solar Radiation', 'Soil class',\n",
      "       'CEC', 'Organic matter', 'pH', 'Clay', 'Silt', 'Sand', 'Area'],\n",
      "      dtype='object')\n"
     ]
    }
   ],
   "source": [
    "# TRAIN AND TEST SPLIT# TRAIN AND TEST SPLIT# TRAIN AND TEST SPLIT\n",
    "# TRAIN AND TEST SPLIT# TRAIN AND TEST SPLIT# TRAIN AND TEST SPLIT\n",
    "# TRAIN AND TEST SPLIT# TRAIN AND TEST SPLIT# TRAIN AND TEST SPLIT\n",
    "# TRAIN AND TEST SPLIT# TRAIN AND TEST SPLIT# TRAIN AND TEST SPLIT\n",
    "\n",
    "# feature_columns = ['Variety', 'Solar Radiation', 'Temperature', 'Precipitation', 'Location', 'Clay', 'Silt', 'Sand', 'pH', 'Precipitation', 'CEC', 'Soil class']\n",
    "\n",
    "X = df.drop(['Yield', 'YieldBucket'], axis=1)\n",
    "\n",
    "print(X.columns)\n",
    "# X = df.loc[:, feature_columns]\n",
    "\n",
    "y = df.Yield\n",
    "\n",
    "from sklearn.model_selection import train_test_split\n",
    "\n",
    "X_train, X_test, y_train, y_test = train_test_split(X, y, test_size = 0.05, train_size = 0.1, random_state = 42)\n",
    "\n",
    "# train_visual, zz, zzz, zzzz = train_test_split(df, y, test_size=0.2, train_size=0.8, random_state = 42)\n",
    "\n",
    "from sklearn import preprocessing\n",
    "from sklearn import utils"
   ]
  },
  {
   "cell_type": "code",
   "execution_count": null,
   "metadata": {},
   "outputs": [],
   "source": [
    "from sklearn.preprocessing import StandardScaler\n",
    "standard_scalar = StandardScaler()\n",
    "x_std = standard_scalar.fit_transform(X_train)\n",
    "print(x_std.shape)\n",
    "\n"
   ]
  },
  {
   "cell_type": "code",
   "execution_count": null,
   "metadata": {},
   "outputs": [],
   "source": [
    "from sklearn.manifold import TSNE\n",
    "tsne = TSNE(n_components=2, random_state=0, verbose=1)\n",
    "x_2d = tsne.fit_transform(x_std)"
   ]
  },
  {
   "cell_type": "code",
   "execution_count": null,
   "metadata": {},
   "outputs": [],
   "source": [
    "print(x_2d.shape)\n",
    "print(x_2d)\n",
    "from matplotlib import pyplot as plt\n",
    "markers=('s', 'd', 'o', '^', 'v')\n",
    "color_map = {0:'red', 1:'blue', 2:'lightgreen', 3:'purple', 4:'cyan'}\n",
    "plt.figure()\n",
    "# for idx, cl in enumerate(np.unique(x_2d)):\n",
    "#     print(cl)\n",
    "for idx, cl in enumerate(np.unique(y_train)):\n",
    "    plt.scatter(x=x_2d[y_train==cl,0], y=x_2d[y_train==cl,1], c=color_map[idx], marker=markers[idx], label=cl)\n",
    "\n",
    "#     plt.scatter(x=x_2d[cl,0], y=x_2d[cl,1], c=color_map[idx], marker=markers[idx], label=cl)\n",
    "# plt.show()"
   ]
  },
  {
   "cell_type": "code",
   "execution_count": null,
   "metadata": {},
   "outputs": [],
   "source": [
    "# VISUALIZE FEATURE DISTRIBUTIONS OPTIONALLY\n",
    "\n",
    "import matplotlib.pyplot as plt\n",
    "X_train[X_train.dtypes[(X_train.dtypes==\"float64\")|(X_train.dtypes==\"int64\")]\n",
    "                        .index.values].hist(figsize=[11,11])"
   ]
  },
  {
   "cell_type": "code",
   "execution_count": 4,
   "metadata": {},
   "outputs": [
    {
     "name": "stdout",
     "output_type": "stream",
     "text": [
      "Index(['Yield', 'Year', 'Temperature', 'Precipitation', 'Solar Radiation',\n",
      "       'Soil class', 'CEC', 'Organic matter', 'pH', 'Clay', 'Silt', 'Sand',\n",
      "       'Area', 'YieldBucket'],\n",
      "      dtype='object')\n",
      "Index(['Year', 'Temperature', 'Precipitation', 'Solar Radiation', 'Soil class',\n",
      "       'CEC', 'Organic matter', 'pH', 'Clay', 'Silt', 'Sand', 'Area'],\n",
      "      dtype='object')\n"
     ]
    }
   ],
   "source": [
    "print(df.columns)\n",
    "print(X_train.columns)\n",
    "\n",
    "X_kepler = df.drop(['Year', 'Temperature', 'Precipitation', 'Solar Radiation', 'Soil class', 'CEC', 'Organic matter', 'pH', 'Clay', 'Sand','Area', 'YieldBucket'], axis=1)\n",
    "cols = X_kepler.columns"
   ]
  },
  {
   "cell_type": "code",
   "execution_count": 5,
   "metadata": {},
   "outputs": [
    {
     "name": "stdout",
     "output_type": "stream",
     "text": [
      "Index(['Yield', 'Silt'], dtype='object')\n"
     ]
    }
   ],
   "source": [
    "print()"
   ]
  },
  {
   "cell_type": "code",
   "execution_count": 8,
   "metadata": {},
   "outputs": [
    {
     "name": "stdout",
     "output_type": "stream",
     "text": [
      "[0.27911726 0.07378177]\n",
      "..Composing projection pipeline length 1:\n",
      "Projections: [0, 1]\n",
      "\n",
      "\n",
      "Distance matrices: False\n",
      "\n",
      "\n",
      "Scalers: MinMaxScaler(copy=True, feature_range=(0, 1))\n",
      "\n",
      "\n",
      "..Projecting on data shaped (82036, 2)\n",
      "\n",
      "..Projecting data using: [0, 1]\n",
      "\n",
      "..Scaling with: MinMaxScaler(copy=True, feature_range=(0, 1))\n",
      "\n",
      "Mapping on data shaped (82036, 2) using lens shaped (82036, 2)\n",
      "\n",
      "Creating 100 hypercubes.\n",
      "\n",
      "Created 272 edges and 385 nodes in 0:00:02.645452.\n",
      "Wrote visualization to: keplermapper.html\n"
     ]
    },
    {
     "name": "stderr",
     "output_type": "stream",
     "text": [
      "/home/kafi/.local/lib/python3.5/site-packages/sklearn/utils/validation.py:475: DataConversionWarning: Data with input dtype int64 was converted to float64 by MinMaxScaler.\n",
      "  warnings.warn(msg, DataConversionWarning)\n"
     ]
    },
    {
     "data": {
      "text/plain": [
       "'<!DOCTYPE html>\\n<html>\\n\\n<head>\\n  <div id=\"json_graph\" data-graph=\\'{\"nodes\": [{\"id\": \"\", \"size\": 4, \"tooltip\": \"<h3>Size</h3><p>38</p>\", \"type\": \"circle\", \"name\": \"cube40_cluster3\", \"color\": 27}, {\"id\": \"\", \"size\": 6, \"tooltip\": \"<h3>Size</h3><p>157</p>\", \"type\": \"circle\", \"name\": \"cube24_cluster1\", \"color\": 8}, {\"id\": \"\", \"size\": 2, \"tooltip\": \"<h3>Size</h3><p>5</p>\", \"type\": \"circle\", \"name\": \"cube21_cluster6\", \"color\": 15}, {\"id\": \"\", \"size\": 2, \"tooltip\": \"<h3>Size</h3><p>6</p>\", \"type\": \"circle\", \"name\": \"cube63_cluster7\", \"color\": 25}, {\"id\": \"\", \"size\": 2, \"tooltip\": \"<h3>Size</h3><p>4</p>\", \"type\": \"circle\", \"name\": \"cube28_cluster9\", \"color\": 27}, {\"id\": \"\", \"size\": 3, \"tooltip\": \"<h3>Size</h3><p>7</p>\", \"type\": \"circle\", \"name\": \"cube14_cluster1\", \"color\": 8}, {\"id\": \"\", \"size\": 7, \"tooltip\": \"<h3>Size</h3><p>516</p>\", \"type\": \"circle\", \"name\": \"cube41_cluster1\", \"color\": 13}, {\"id\": \"\", \"size\": 2, \"tooltip\": \"<h3>Size</h3><p>4</p>\", \"type\": \"circle\", \"name\": \"cube29_cluster0\", \"color\": 18}, {\"id\": \"\", \"size\": 2, \"tooltip\": \"<h3>Size</h3><p>5</p>\", \"type\": \"circle\", \"name\": \"cube28_cluster7\", \"color\": 26}, {\"id\": \"\", \"size\": 6, \"tooltip\": \"<h3>Size</h3><p>374</p>\", \"type\": \"circle\", \"name\": \"cube58_cluster0\", \"color\": 18}, {\"id\": \"\", \"size\": 3, \"tooltip\": \"<h3>Size</h3><p>9</p>\", \"type\": \"circle\", \"name\": \"cube70_cluster3\", \"color\": 12}, {\"id\": \"\", \"size\": 2, \"tooltip\": \"<h3>Size</h3><p>3</p>\", \"type\": \"circle\", \"name\": \"cube79_cluster1\", \"color\": 17}, {\"id\": \"\", \"size\": 2, \"tooltip\": \"<h3>Size</h3><p>3</p>\", \"type\": \"circle\", \"name\": \"cube60_cluster5\", \"color\": 28}, {\"id\": \"\", \"size\": 2, \"tooltip\": \"<h3>Size</h3><p>6</p>\", \"type\": \"circle\", \"name\": \"cube26_cluster8\", \"color\": 11}, {\"id\": \"\", \"size\": 2, \"tooltip\": \"<h3>Size</h3><p>3</p>\", \"type\": \"circle\", \"name\": \"cube71_cluster2\", \"color\": 18}, {\"id\": \"\", \"size\": 5, \"tooltip\": \"<h3>Size</h3><p>70</p>\", \"type\": \"circle\", \"name\": \"cube60_cluster1\", \"color\": 12}, {\"id\": \"\", \"size\": 3, \"tooltip\": \"<h3>Size</h3><p>7</p>\", \"type\": \"circle\", \"name\": \"cube88_cluster5\", \"color\": 15}, {\"id\": \"\", \"size\": 2, \"tooltip\": \"<h3>Size</h3><p>3</p>\", \"type\": \"circle\", \"name\": \"cube40_cluster5\", \"color\": 28}, {\"id\": \"\", \"size\": 2, \"tooltip\": \"<h3>Size</h3><p>3</p>\", \"type\": \"circle\", \"name\": \"cube58_cluster2\", \"color\": 7}, {\"id\": \"\", \"size\": 3, \"tooltip\": \"<h3>Size</h3><p>8</p>\", \"type\": \"circle\", \"name\": \"cube39_cluster5\", \"color\": 20}, {\"id\": \"\", \"size\": 5, \"tooltip\": \"<h3>Size</h3><p>97</p>\", \"type\": \"circle\", \"name\": \"cube69_cluster2\", \"color\": 19}, {\"id\": \"\", \"size\": 2, \"tooltip\": \"<h3>Size</h3><p>3</p>\", \"type\": \"circle\", \"name\": \"cube12_cluster2\", \"color\": 8}, {\"id\": \"\", \"size\": 7, \"tooltip\": \"<h3>Size</h3><p>760</p>\", \"type\": \"circle\", \"name\": \"cube49_cluster1\", \"color\": 9}, {\"id\": \"\", \"size\": 3, \"tooltip\": \"<h3>Size</h3><p>10</p>\", \"type\": \"circle\", \"name\": \"cube30_cluster2\", \"color\": 5}, {\"id\": \"\", \"size\": 9, \"tooltip\": \"<h3>Size</h3><p>5066</p>\", \"type\": \"circle\", \"name\": \"cube43_cluster0\", \"color\": 11}, {\"id\": \"\", \"size\": 4, \"tooltip\": \"<h3>Size</h3><p>24</p>\", \"type\": \"circle\", \"name\": \"cube69_cluster0\", \"color\": 6}, {\"id\": \"\", \"size\": 2, \"tooltip\": \"<h3>Size</h3><p>6</p>\", \"type\": \"circle\", \"name\": \"cube70_cluster1\", \"color\": 20}, {\"id\": \"\", \"size\": 5, \"tooltip\": \"<h3>Size</h3><p>121</p>\", \"type\": \"circle\", \"name\": \"cube59_cluster3\", \"color\": 24}, {\"id\": \"\", \"size\": 2, \"tooltip\": \"<h3>Size</h3><p>3</p>\", \"type\": \"circle\", \"name\": \"cube75_cluster2\", \"color\": 16}, {\"id\": \"\", \"size\": 2, \"tooltip\": \"<h3>Size</h3><p>3</p>\", \"type\": \"circle\", \"name\": \"cube12_cluster3\", \"color\": 7}, {\"id\": \"\", \"size\": 3, \"tooltip\": \"<h3>Size</h3><p>11</p>\", \"type\": \"circle\", \"name\": \"cube75_cluster3\", \"color\": 24}, {\"id\": \"\", \"size\": 3, \"tooltip\": \"<h3>Size</h3><p>15</p>\", \"type\": \"circle\", \"name\": \"cube40_cluster4\", \"color\": 27}, {\"id\": \"\", \"size\": 5, \"tooltip\": \"<h3>Size</h3><p>99</p>\", \"type\": \"circle\", \"name\": \"cube39_cluster2\", \"color\": 10}, {\"id\": \"\", \"size\": 2, \"tooltip\": \"<h3>Size</h3><p>3</p>\", \"type\": \"circle\", \"name\": \"cube25_cluster5\", \"color\": 17}, {\"id\": \"\", \"size\": 3, \"tooltip\": \"<h3>Size</h3><p>11</p>\", \"type\": \"circle\", \"name\": \"cube21_cluster5\", \"color\": 9}, {\"id\": \"\", \"size\": 6, \"tooltip\": \"<h3>Size</h3><p>352</p>\", \"type\": \"circle\", \"name\": \"cube62_cluster0\", \"color\": 22}, {\"id\": \"\", \"size\": 9, \"tooltip\": \"<h3>Size</h3><p>4207</p>\", \"type\": \"circle\", \"name\": \"cube42_cluster0\", \"color\": 12}, {\"id\": \"\", \"size\": 2, \"tooltip\": \"<h3>Size</h3><p>3</p>\", \"type\": \"circle\", \"name\": \"cube78_cluster15\", \"color\": 17}, {\"id\": \"\", \"size\": 5, \"tooltip\": \"<h3>Size</h3><p>59</p>\", \"type\": \"circle\", \"name\": \"cube31_cluster7\", \"color\": 16}, {\"id\": \"\", \"size\": 3, \"tooltip\": \"<h3>Size</h3><p>9</p>\", \"type\": \"circle\", \"name\": \"cube45_cluster2\", \"color\": 15}, {\"id\": \"\", \"size\": 2, \"tooltip\": \"<h3>Size</h3><p>3</p>\", \"type\": \"circle\", \"name\": \"cube38_cluster4\", \"color\": 22}, {\"id\": \"\", \"size\": 2, \"tooltip\": \"<h3>Size</h3><p>3</p>\", \"type\": \"circle\", \"name\": \"cube50_cluster4\", \"color\": 28}, {\"id\": \"\", \"size\": 2, \"tooltip\": \"<h3>Size</h3><p>4</p>\", \"type\": \"circle\", \"name\": \"cube49_cluster3\", \"color\": 6}, {\"id\": \"\", \"size\": 2, \"tooltip\": \"<h3>Size</h3><p>6</p>\", \"type\": \"circle\", \"name\": \"cube16_cluster0\", \"color\": 7}, {\"id\": \"\", \"size\": 2, \"tooltip\": \"<h3>Size</h3><p>3</p>\", \"type\": \"circle\", \"name\": \"cube34_cluster7\", \"color\": 19}, {\"id\": \"\", \"size\": 2, \"tooltip\": \"<h3>Size</h3><p>3</p>\", \"type\": \"circle\", \"name\": \"cube26_cluster2\", \"color\": 10}, {\"id\": \"\", \"size\": 5, \"tooltip\": \"<h3>Size</h3><p>142</p>\", \"type\": \"circle\", \"name\": \"cube50_cluster2\", \"color\": 27}, {\"id\": \"\", \"size\": 5, \"tooltip\": \"<h3>Size</h3><p>69</p>\", \"type\": \"circle\", \"name\": \"cube21_cluster1\", \"color\": 13}, {\"id\": \"\", \"size\": 2, \"tooltip\": \"<h3>Size</h3><p>4</p>\", \"type\": \"circle\", \"name\": \"cube17_cluster1\", \"color\": 2}, {\"id\": \"\", \"size\": 2, \"tooltip\": \"<h3>Size</h3><p>3</p>\", \"type\": \"circle\", \"name\": \"cube67_cluster7\", \"color\": 5}, {\"id\": \"\", \"size\": 2, \"tooltip\": \"<h3>Size</h3><p>3</p>\", \"type\": \"circle\", \"name\": \"cube76_cluster4\", \"color\": 14}, {\"id\": \"\", \"size\": 2, \"tooltip\": \"<h3>Size</h3><p>4</p>\", \"type\": \"circle\", \"name\": \"cube35_cluster1\", \"color\": 10}, {\"id\": \"\", \"size\": 2, \"tooltip\": \"<h3>Size</h3><p>3</p>\", \"type\": \"circle\", \"name\": \"cube74_cluster3\", \"color\": 24}, {\"id\": \"\", \"size\": 2, \"tooltip\": \"<h3>Size</h3><p>5</p>\", \"type\": \"circle\", \"name\": \"cube13_cluster0\", \"color\": 15}, {\"id\": \"\", \"size\": 3, \"tooltip\": \"<h3>Size</h3><p>7</p>\", \"type\": \"circle\", \"name\": \"cube61_cluster7\", \"color\": 12}, {\"id\": \"\", \"size\": 3, \"tooltip\": \"<h3>Size</h3><p>8</p>\", \"type\": \"circle\", \"name\": \"cube17_cluster3\", \"color\": 2}, {\"id\": \"\", \"size\": 3, \"tooltip\": \"<h3>Size</h3><p>12</p>\", \"type\": \"circle\", \"name\": \"cube39_cluster4\", \"color\": 15}, {\"id\": \"\", \"size\": 7, \"tooltip\": \"<h3>Size</h3><p>1024</p>\", \"type\": \"circle\", \"name\": \"cube23_cluster0\", \"color\": 9}, {\"id\": \"\", \"size\": 4, \"tooltip\": \"<h3>Size</h3><p>26</p>\", \"type\": \"circle\", \"name\": \"cube13_cluster1\", \"color\": 12}, {\"id\": \"\", \"size\": 2, \"tooltip\": \"<h3>Size</h3><p>3</p>\", \"type\": \"circle\", \"name\": \"cube15_cluster0\", \"color\": 21}, {\"id\": \"\", \"size\": 3, \"tooltip\": \"<h3>Size</h3><p>10</p>\", \"type\": \"circle\", \"name\": \"cube31_cluster4\", \"color\": 5}, {\"id\": \"\", \"size\": 8, \"tooltip\": \"<h3>Size</h3><p>2865</p>\", \"type\": \"circle\", \"name\": \"cube32_cluster0\", \"color\": 10}, {\"id\": \"\", \"size\": 2, \"tooltip\": \"<h3>Size</h3><p>3</p>\", \"type\": \"circle\", \"name\": \"cube79_cluster2\", \"color\": 15}, {\"id\": \"\", \"size\": 7, \"tooltip\": \"<h3>Size</h3><p>719</p>\", \"type\": \"circle\", \"name\": \"cube48_cluster1\", \"color\": 20}, {\"id\": \"\", \"size\": 3, \"tooltip\": \"<h3>Size</h3><p>14</p>\", \"type\": \"circle\", \"name\": \"cube28_cluster3\", \"color\": 7}, {\"id\": \"\", \"size\": 2, \"tooltip\": \"<h3>Size</h3><p>3</p>\", \"type\": \"circle\", \"name\": \"cube76_cluster10\", \"color\": 28}, {\"id\": \"\", \"size\": 5, \"tooltip\": \"<h3>Size</h3><p>57</p>\", \"type\": \"circle\", \"name\": \"cube77_cluster3\", \"color\": 18}, {\"id\": \"\", \"size\": 3, \"tooltip\": \"<h3>Size</h3><p>9</p>\", \"type\": \"circle\", \"name\": \"cube27_cluster3\", \"color\": 10}, {\"id\": \"\", \"size\": 7, \"tooltip\": \"<h3>Size</h3><p>938</p>\", \"type\": \"circle\", \"name\": \"cube35_cluster0\", \"color\": 12}, {\"id\": \"\", \"size\": 3, \"tooltip\": \"<h3>Size</h3><p>13</p>\", \"type\": \"circle\", \"name\": \"cube26_cluster9\", \"color\": 15}, {\"id\": \"\", \"size\": 4, \"tooltip\": \"<h3>Size</h3><p>36</p>\", \"type\": \"circle\", \"name\": \"cube63_cluster1\", \"color\": 19}, {\"id\": \"\", \"size\": 2, \"tooltip\": \"<h3>Size</h3><p>3</p>\", \"type\": \"circle\", \"name\": \"cube79_cluster6\", \"color\": 17}, {\"id\": \"\", \"size\": 4, \"tooltip\": \"<h3>Size</h3><p>33</p>\", \"type\": \"circle\", \"name\": \"cube38_cluster1\", \"color\": 20}, {\"id\": \"\", \"size\": 3, \"tooltip\": \"<h3>Size</h3><p>15</p>\", \"type\": \"circle\", \"name\": \"cube70_cluster0\", \"color\": 13}, {\"id\": \"\", \"size\": 6, \"tooltip\": \"<h3>Size</h3><p>210</p>\", \"type\": \"circle\", \"name\": \"cube54_cluster0\", \"color\": 20}, {\"id\": \"\", \"size\": 3, \"tooltip\": \"<h3>Size</h3><p>7</p>\", \"type\": \"circle\", \"name\": \"cube31_cluster2\", \"color\": 4}, {\"id\": \"\", \"size\": 3, \"tooltip\": \"<h3>Size</h3><p>9</p>\", \"type\": \"circle\", \"name\": \"cube27_cluster1\", \"color\": 4}, {\"id\": \"\", \"size\": 2, \"tooltip\": \"<h3>Size</h3><p>6</p>\", \"type\": \"circle\", \"name\": \"cube30_cluster3\", \"color\": 5}, {\"id\": \"\", \"size\": 6, \"tooltip\": \"<h3>Size</h3><p>342</p>\", \"type\": \"circle\", \"name\": \"cube60_cluster0\", \"color\": 20}, {\"id\": \"\", \"size\": 2, \"tooltip\": \"<h3>Size</h3><p>5</p>\", \"type\": \"circle\", \"name\": \"cube12_cluster1\", \"color\": 8}, {\"id\": \"\", \"size\": 2, \"tooltip\": \"<h3>Size</h3><p>3</p>\", \"type\": \"circle\", \"name\": \"cube69_cluster3\", \"color\": 6}, {\"id\": \"\", \"size\": 3, \"tooltip\": \"<h3>Size</h3><p>9</p>\", \"type\": \"circle\", \"name\": \"cube67_cluster1\", \"color\": 22}, {\"id\": \"\", \"size\": 2, \"tooltip\": \"<h3>Size</h3><p>5</p>\", \"type\": \"circle\", \"name\": \"cube75_cluster4\", \"color\": 18}, {\"id\": \"\", \"size\": 2, \"tooltip\": \"<h3>Size</h3><p>5</p>\", \"type\": \"circle\", \"name\": \"cube29_cluster1\", \"color\": 22}, {\"id\": \"\", \"size\": 2, \"tooltip\": \"<h3>Size</h3><p>4</p>\", \"type\": \"circle\", \"name\": \"cube21_cluster0\", \"color\": 8}, {\"id\": \"\", \"size\": 2, \"tooltip\": \"<h3>Size</h3><p>3</p>\", \"type\": \"circle\", \"name\": \"cube73_cluster4\", \"color\": 23}, {\"id\": \"\", \"size\": 2, \"tooltip\": \"<h3>Size</h3><p>4</p>\", \"type\": \"circle\", \"name\": \"cube17_cluster4\", \"color\": 2}, {\"id\": \"\", \"size\": 3, \"tooltip\": \"<h3>Size</h3><p>9</p>\", \"type\": \"circle\", \"name\": \"cube71_cluster3\", \"color\": 12}, {\"id\": \"\", \"size\": 3, \"tooltip\": \"<h3>Size</h3><p>14</p>\", \"type\": \"circle\", \"name\": \"cube50_cluster3\", \"color\": 28}, {\"id\": \"\", \"size\": 9, \"tooltip\": \"<h3>Size</h3><p>3914</p>\", \"type\": \"circle\", \"name\": \"cube56_cluster0\", \"color\": 17}, {\"id\": \"\", \"size\": 9, \"tooltip\": \"<h3>Size</h3><p>5152</p>\", \"type\": \"circle\", \"name\": \"cube55_cluster0\", \"color\": 15}, {\"id\": \"\", \"size\": 3, \"tooltip\": \"<h3>Size</h3><p>16</p>\", \"type\": \"circle\", \"name\": \"cube78_cluster12\", \"color\": 15}, {\"id\": \"\", \"size\": 3, \"tooltip\": \"<h3>Size</h3><p>8</p>\", \"type\": \"circle\", \"name\": \"cube27_cluster2\", \"color\": 8}, {\"id\": \"\", \"size\": 2, \"tooltip\": \"<h3>Size</h3><p>3</p>\", \"type\": \"circle\", \"name\": \"cube62_cluster5\", \"color\": 21}, {\"id\": \"\", \"size\": 2, \"tooltip\": \"<h3>Size</h3><p>6</p>\", \"type\": \"circle\", \"name\": \"cube60_cluster4\", \"color\": 19}, {\"id\": \"\", \"size\": 2, \"tooltip\": \"<h3>Size</h3><p>5</p>\", \"type\": \"circle\", \"name\": \"cube76_cluster9\", \"color\": 22}, {\"id\": \"\", \"size\": 2, \"tooltip\": \"<h3>Size</h3><p>3</p>\", \"type\": \"circle\", \"name\": \"cube77_cluster1\", \"color\": 16}, {\"id\": \"\", \"size\": 7, \"tooltip\": \"<h3>Size</h3><p>971</p>\", \"type\": \"circle\", \"name\": \"cube36_cluster0\", \"color\": 14}, {\"id\": \"\", \"size\": 2, \"tooltip\": \"<h3>Size</h3><p>3</p>\", \"type\": \"circle\", \"name\": \"cube35_cluster5\", \"color\": 10}, {\"id\": \"\", \"size\": 8, \"tooltip\": \"<h3>Size</h3><p>1680</p>\", \"type\": \"circle\", \"name\": \"cube51_cluster0\", \"color\": 16}, {\"id\": \"\", \"size\": 3, \"tooltip\": \"<h3>Size</h3><p>11</p>\", \"type\": \"circle\", \"name\": \"cube67_cluster6\", \"color\": 9}, {\"id\": \"\", \"size\": 3, \"tooltip\": \"<h3>Size</h3><p>17</p>\", \"type\": \"circle\", \"name\": \"cube34_cluster3\", \"color\": 17}, {\"id\": \"\", \"size\": 2, \"tooltip\": \"<h3>Size</h3><p>3</p>\", \"type\": \"circle\", \"name\": \"cube63_cluster5\", \"color\": 21}, {\"id\": \"\", \"size\": 9, \"tooltip\": \"<h3>Size</h3><p>3578</p>\", \"type\": \"circle\", \"name\": \"cube43_cluster1\", \"color\": 14}, {\"id\": \"\", \"size\": 3, \"tooltip\": \"<h3>Size</h3><p>12</p>\", \"type\": \"circle\", \"name\": \"cube39_cluster0\", \"color\": 5}, {\"id\": \"\", \"size\": 3, \"tooltip\": \"<h3>Size</h3><p>19</p>\", \"type\": \"circle\", \"name\": \"cube35_cluster4\", \"color\": 15}, {\"id\": \"\", \"size\": 2, \"tooltip\": \"<h3>Size</h3><p>4</p>\", \"type\": \"circle\", \"name\": \"cube67_cluster8\", \"color\": 11}, {\"id\": \"\", \"size\": 2, \"tooltip\": \"<h3>Size</h3><p>3</p>\", \"type\": \"circle\", \"name\": \"cube40_cluster6\", \"color\": 28}, {\"id\": \"\", \"size\": 6, \"tooltip\": \"<h3>Size</h3><p>309</p>\", \"type\": \"circle\", \"name\": \"cube51_cluster4\", \"color\": 12}, {\"id\": \"\", \"size\": 2, \"tooltip\": \"<h3>Size</h3><p>6</p>\", \"type\": \"circle\", \"name\": \"cube88_cluster1\", \"color\": 15}, {\"id\": \"\", \"size\": 8, \"tooltip\": \"<h3>Size</h3><p>1401</p>\", \"type\": \"circle\", \"name\": \"cube44_cluster1\", \"color\": 17}, {\"id\": \"\", \"size\": 3, \"tooltip\": \"<h3>Size</h3><p>9</p>\", \"type\": \"circle\", \"name\": \"cube61_cluster9\", \"color\": 21}, {\"id\": \"\", \"size\": 3, \"tooltip\": \"<h3>Size</h3><p>9</p>\", \"type\": \"circle\", \"name\": \"cube26_cluster6\", \"color\": 10}, {\"id\": \"\", \"size\": 5, \"tooltip\": \"<h3>Size</h3><p>97</p>\", \"type\": \"circle\", \"name\": \"cube68_cluster2\", \"color\": 19}, {\"id\": \"\", \"size\": 2, \"tooltip\": \"<h3>Size</h3><p>5</p>\", \"type\": \"circle\", \"name\": \"cube98_cluster0\", \"color\": 15}, {\"id\": \"\", \"size\": 3, \"tooltip\": \"<h3>Size</h3><p>11</p>\", \"type\": \"circle\", \"name\": \"cube62_cluster6\", \"color\": 27}, {\"id\": \"\", \"size\": 6, \"tooltip\": \"<h3>Size</h3><p>284</p>\", \"type\": \"circle\", \"name\": \"cube27_cluster0\", \"color\": 12}, {\"id\": \"\", \"size\": 2, \"tooltip\": \"<h3>Size</h3><p>6</p>\", \"type\": \"circle\", \"name\": \"cube31_cluster6\", \"color\": 6}, {\"id\": \"\", \"size\": 6, \"tooltip\": \"<h3>Size</h3><p>294</p>\", \"type\": \"circle\", \"name\": \"cube69_cluster4\", \"color\": 21}, {\"id\": \"\", \"size\": 3, \"tooltip\": \"<h3>Size</h3><p>15</p>\", \"type\": \"circle\", \"name\": \"cube88_cluster2\", \"color\": 15}, {\"id\": \"\", \"size\": 3, \"tooltip\": \"<h3>Size</h3><p>9</p>\", \"type\": \"circle\", \"name\": \"cube67_cluster9\", \"color\": 26}, {\"id\": \"\", \"size\": 8, \"tooltip\": \"<h3>Size</h3><p>1451</p>\", \"type\": \"circle\", \"name\": \"cube53_cluster0\", \"color\": 18}, {\"id\": \"\", \"size\": 7, \"tooltip\": \"<h3>Size</h3><p>696</p>\", \"type\": \"circle\", \"name\": \"cube31_cluster0\", \"color\": 14}, {\"id\": \"\", \"size\": 2, \"tooltip\": \"<h3>Size</h3><p>3</p>\", \"type\": \"circle\", \"name\": \"cube62_cluster8\", \"color\": 25}, {\"id\": \"\", \"size\": 2, \"tooltip\": \"<h3>Size</h3><p>3</p>\", \"type\": \"circle\", \"name\": \"cube64_cluster1\", \"color\": 4}, {\"id\": \"\", \"size\": 2, \"tooltip\": \"<h3>Size</h3><p>6</p>\", \"type\": \"circle\", \"name\": \"cube26_cluster10\", \"color\": 14}, {\"id\": \"\", \"size\": 2, \"tooltip\": \"<h3>Size</h3><p>4</p>\", \"type\": \"circle\", \"name\": \"cube36_cluster1\", \"color\": 2}, {\"id\": \"\", \"size\": 7, \"tooltip\": \"<h3>Size</h3><p>419</p>\", \"type\": \"circle\", \"name\": \"cube61_cluster0\", \"color\": 18}, {\"id\": \"\", \"size\": 8, \"tooltip\": \"<h3>Size</h3><p>1207</p>\", \"type\": \"circle\", \"name\": \"cube37_cluster0\", \"color\": 13}, {\"id\": \"\", \"size\": 2, \"tooltip\": \"<h3>Size</h3><p>4</p>\", \"type\": \"circle\", \"name\": \"cube27_cluster8\", \"color\": 7}, {\"id\": \"\", \"size\": 4, \"tooltip\": \"<h3>Size</h3><p>22</p>\", \"type\": \"circle\", \"name\": \"cube67_cluster2\", \"color\": 9}, {\"id\": \"\", \"size\": 3, \"tooltip\": \"<h3>Size</h3><p>8</p>\", \"type\": \"circle\", \"name\": \"cube34_cluster4\", \"color\": 17}, {\"id\": \"\", \"size\": 2, \"tooltip\": \"<h3>Size</h3><p>4</p>\", \"type\": \"circle\", \"name\": \"cube24_cluster4\", \"color\": 13}, {\"id\": \"\", \"size\": 3, \"tooltip\": \"<h3>Size</h3><p>13</p>\", \"type\": \"circle\", \"name\": \"cube30_cluster1\", \"color\": 14}, {\"id\": \"\", \"size\": 3, \"tooltip\": \"<h3>Size</h3><p>8</p>\", \"type\": \"circle\", \"name\": \"cube25_cluster4\", \"color\": 9}, {\"id\": \"\", \"size\": 2, \"tooltip\": \"<h3>Size</h3><p>3</p>\", \"type\": \"circle\", \"name\": \"cube78_cluster14\", \"color\": 17}, {\"id\": \"\", \"size\": 3, \"tooltip\": \"<h3>Size</h3><p>12</p>\", \"type\": \"circle\", \"name\": \"cube76_cluster2\", \"color\": 24}, {\"id\": \"\", \"size\": 3, \"tooltip\": \"<h3>Size</h3><p>8</p>\", \"type\": \"circle\", \"name\": \"cube35_cluster3\", \"color\": 17}, {\"id\": \"\", \"size\": 2, \"tooltip\": \"<h3>Size</h3><p>5</p>\", \"type\": \"circle\", \"name\": \"cube65_cluster2\", \"color\": 18}, {\"id\": \"\", \"size\": 6, \"tooltip\": \"<h3>Size</h3><p>245</p>\", \"type\": \"circle\", \"name\": \"cube44_cluster3\", \"color\": 15}, {\"id\": \"\", \"size\": 7, \"tooltip\": \"<h3>Size</h3><p>1030</p>\", \"type\": \"circle\", \"name\": \"cube38_cluster0\", \"color\": 14}, {\"id\": \"\", \"size\": 3, \"tooltip\": \"<h3>Size</h3><p>15</p>\", \"type\": \"circle\", \"name\": \"cube78_cluster0\", \"color\": 13}, {\"id\": \"\", \"size\": 2, \"tooltip\": \"<h3>Size</h3><p>5</p>\", \"type\": \"circle\", \"name\": \"cube27_cluster6\", \"color\": 6}, {\"id\": \"\", \"size\": 5, \"tooltip\": \"<h3>Size</h3><p>67</p>\", \"type\": \"circle\", \"name\": \"cube61_cluster1\", \"color\": 12}, {\"id\": \"\", \"size\": 4, \"tooltip\": \"<h3>Size</h3><p>20</p>\", \"type\": \"circle\", \"name\": \"cube69_cluster1\", \"color\": 17}, {\"id\": \"\", \"size\": 5, \"tooltip\": \"<h3>Size</h3><p>60</p>\", \"type\": \"circle\", \"name\": \"cube25_cluster1\", \"color\": 15}, {\"id\": \"\", \"size\": 2, \"tooltip\": \"<h3>Size</h3><p>3</p>\", \"type\": \"circle\", \"name\": \"cube78_cluster16\", \"color\": 17}, {\"id\": \"\", \"size\": 2, \"tooltip\": \"<h3>Size</h3><p>5</p>\", \"type\": \"circle\", \"name\": \"cube21_cluster7\", \"color\": 13}, {\"id\": \"\", \"size\": 2, \"tooltip\": \"<h3>Size</h3><p>4</p>\", \"type\": \"circle\", \"name\": \"cube76_cluster8\", \"color\": 23}, {\"id\": \"\", \"size\": 3, \"tooltip\": \"<h3>Size</h3><p>8</p>\", \"type\": \"circle\", \"name\": \"cube74_cluster2\", \"color\": 24}, {\"id\": \"\", \"size\": 2, \"tooltip\": \"<h3>Size</h3><p>5</p>\", \"type\": \"circle\", \"name\": \"cube39_cluster10\", \"color\": 22}, {\"id\": \"\", \"size\": 7, \"tooltip\": \"<h3>Size</h3><p>438</p>\", \"type\": \"circle\", \"name\": \"cube34_cluster1\", \"color\": 13}, {\"id\": \"\", \"size\": 2, \"tooltip\": \"<h3>Size</h3><p>5</p>\", \"type\": \"circle\", \"name\": \"cube25_cluster3\", \"color\": 9}, {\"id\": \"\", \"size\": 2, \"tooltip\": \"<h3>Size</h3><p>6</p>\", \"type\": \"circle\", \"name\": \"cube38_cluster3\", \"color\": 19}, {\"id\": \"\", \"size\": 2, \"tooltip\": \"<h3>Size</h3><p>6</p>\", \"type\": \"circle\", \"name\": \"cube76_cluster3\", \"color\": 9}, {\"id\": \"\", \"size\": 2, \"tooltip\": \"<h3>Size</h3><p>3</p>\", \"type\": \"circle\", \"name\": \"cube17_cluster0\", \"color\": 3}, {\"id\": \"\", \"size\": 2, \"tooltip\": \"<h3>Size</h3><p>4</p>\", \"type\": \"circle\", \"name\": \"cube13_cluster2\", \"color\": 13}, {\"id\": \"\", \"size\": 2, \"tooltip\": \"<h3>Size</h3><p>3</p>\", \"type\": \"circle\", \"name\": \"cube22_cluster4\", \"color\": 10}, {\"id\": \"\", \"size\": 3, \"tooltip\": \"<h3>Size</h3><p>14</p>\", \"type\": \"circle\", \"name\": \"cube64_cluster3\", \"color\": 25}, {\"id\": \"\", \"size\": 3, \"tooltip\": \"<h3>Size</h3><p>7</p>\", \"type\": \"circle\", \"name\": \"cube61_cluster5\", \"color\": 14}, {\"id\": \"\", \"size\": 2, \"tooltip\": \"<h3>Size</h3><p>4</p>\", \"type\": \"circle\", \"name\": \"cube21_cluster4\", \"color\": 10}, {\"id\": \"\", \"size\": 2, \"tooltip\": \"<h3>Size</h3><p>3</p>\", \"type\": \"circle\", \"name\": \"cube72_cluster0\", \"color\": 25}, {\"id\": \"\", \"size\": 2, \"tooltip\": \"<h3>Size</h3><p>6</p>\", \"type\": \"circle\", \"name\": \"cube45_cluster1\", \"color\": 13}, {\"id\": \"\", \"size\": 5, \"tooltip\": \"<h3>Size</h3><p>90</p>\", \"type\": \"circle\", \"name\": \"cube76_cluster1\", \"color\": 16}, {\"id\": \"\", \"size\": 2, \"tooltip\": \"<h3>Size</h3><p>6</p>\", \"type\": \"circle\", \"name\": \"cube27_cluster4\", \"color\": 5}, {\"id\": \"\", \"size\": 5, \"tooltip\": \"<h3>Size</h3><p>85</p>\", \"type\": \"circle\", \"name\": \"cube63_cluster2\", \"color\": 24}, {\"id\": \"\", \"size\": 2, \"tooltip\": \"<h3>Size</h3><p>3</p>\", \"type\": \"circle\", \"name\": \"cube12_cluster5\", \"color\": 10}, {\"id\": \"\", \"size\": 2, \"tooltip\": \"<h3>Size</h3><p>3</p>\", \"type\": \"circle\", \"name\": \"cube67_cluster11\", \"color\": 28}, {\"id\": \"\", \"size\": 8, \"tooltip\": \"<h3>Size</h3><p>1380</p>\", \"type\": \"circle\", \"name\": \"cube56_cluster1\", \"color\": 15}, {\"id\": \"\", \"size\": 3, \"tooltip\": \"<h3>Size</h3><p>7</p>\", \"type\": \"circle\", \"name\": \"cube12_cluster4\", \"color\": 12}, {\"id\": \"\", \"size\": 2, \"tooltip\": \"<h3>Size</h3><p>4</p>\", \"type\": \"circle\", \"name\": \"cube12_cluster6\", \"color\": 11}, {\"id\": \"\", \"size\": 3, \"tooltip\": \"<h3>Size</h3><p>15</p>\", \"type\": \"circle\", \"name\": \"cube71_cluster0\", \"color\": 13}, {\"id\": \"\", \"size\": 6, \"tooltip\": \"<h3>Size</h3><p>243</p>\", \"type\": \"circle\", \"name\": \"cube49_cluster0\", \"color\": 12}, {\"id\": \"\", \"size\": 2, \"tooltip\": \"<h3>Size</h3><p>3</p>\", \"type\": \"circle\", \"name\": \"cube28_cluster4\", \"color\": 11}, {\"id\": \"\", \"size\": 4, \"tooltip\": \"<h3>Size</h3><p>38</p>\", \"type\": \"circle\", \"name\": \"cube31_cluster1\", \"color\": 18}, {\"id\": \"\", \"size\": 3, \"tooltip\": \"<h3>Size</h3><p>9</p>\", \"type\": \"circle\", \"name\": \"cube26_cluster11\", \"color\": 21}, {\"id\": \"\", \"size\": 2, \"tooltip\": \"<h3>Size</h3><p>3</p>\", \"type\": \"circle\", \"name\": \"cube11_cluster0\", \"color\": 12}, {\"id\": \"\", \"size\": 4, \"tooltip\": \"<h3>Size</h3><p>50</p>\", \"type\": \"circle\", \"name\": \"cube25_cluster0\", \"color\": 11}, {\"id\": \"\", \"size\": 2, \"tooltip\": \"<h3>Size</h3><p>3</p>\", \"type\": \"circle\", \"name\": \"cube13_cluster3\", \"color\": 11}, {\"id\": \"\", \"size\": 4, \"tooltip\": \"<h3>Size</h3><p>37</p>\", \"type\": \"circle\", \"name\": \"cube51_cluster2\", \"color\": 17}, {\"id\": \"\", \"size\": 3, \"tooltip\": \"<h3>Size</h3><p>8</p>\", \"type\": \"circle\", \"name\": \"cube78_cluster10\", \"color\": 18}, {\"id\": \"\", \"size\": 7, \"tooltip\": \"<h3>Size</h3><p>542</p>\", \"type\": \"circle\", \"name\": \"cube54_cluster2\", \"color\": 17}, {\"id\": \"\", \"size\": 6, \"tooltip\": \"<h3>Size</h3><p>374</p>\", \"type\": \"circle\", \"name\": \"cube59_cluster0\", \"color\": 18}, {\"id\": \"\", \"size\": 3, \"tooltip\": \"<h3>Size</h3><p>8</p>\", \"type\": \"circle\", \"name\": \"cube26_cluster5\", \"color\": 8}, {\"id\": \"\", \"size\": 4, \"tooltip\": \"<h3>Size</h3><p>29</p>\", \"type\": \"circle\", \"name\": \"cube14_cluster0\", \"color\": 8}, {\"id\": \"\", \"size\": 6, \"tooltip\": \"<h3>Size</h3><p>319</p>\", \"type\": \"circle\", \"name\": \"cube65_cluster1\", \"color\": 18}, {\"id\": \"\", \"size\": 2, \"tooltip\": \"<h3>Size</h3><p>3</p>\", \"type\": \"circle\", \"name\": \"cube30_cluster4\", \"color\": 12}, {\"id\": \"\", \"size\": 2, \"tooltip\": \"<h3>Size</h3><p>6</p>\", \"type\": \"circle\", \"name\": \"cube60_cluster6\", \"color\": 28}, {\"id\": \"\", \"size\": 2, \"tooltip\": \"<h3>Size</h3><p>4</p>\", \"type\": \"circle\", \"name\": \"cube31_cluster9\", \"color\": 12}, {\"id\": \"\", \"size\": 2, \"tooltip\": \"<h3>Size</h3><p>4</p>\", \"type\": \"circle\", \"name\": \"cube88_cluster4\", \"color\": 15}, {\"id\": \"\", \"size\": 8, \"tooltip\": \"<h3>Size</h3><p>1101</p>\", \"type\": \"circle\", \"name\": \"cube67_cluster0\", \"color\": 18}, {\"id\": \"\", \"size\": 3, \"tooltip\": \"<h3>Size</h3><p>7</p>\", \"type\": \"circle\", \"name\": \"cube68_cluster4\", \"color\": 13}, {\"id\": \"\", \"size\": 4, \"tooltip\": \"<h3>Size</h3><p>25</p>\", \"type\": \"circle\", \"name\": \"cube51_cluster1\", \"color\": 18}, {\"id\": \"\", \"size\": 2, \"tooltip\": \"<h3>Size</h3><p>6</p>\", \"type\": \"circle\", \"name\": \"cube44_cluster6\", \"color\": 19}, {\"id\": \"\", \"size\": 2, \"tooltip\": \"<h3>Size</h3><p>3</p>\", \"type\": \"circle\", \"name\": \"cube79_cluster4\", \"color\": 17}, {\"id\": \"\", \"size\": 2, \"tooltip\": \"<h3>Size</h3><p>3</p>\", \"type\": \"circle\", \"name\": \"cube45_cluster3\", \"color\": 16}, {\"id\": \"\", \"size\": 2, \"tooltip\": \"<h3>Size</h3><p>3</p>\", \"type\": \"circle\", \"name\": \"cube79_cluster5\", \"color\": 17}, {\"id\": \"\", \"size\": 2, \"tooltip\": \"<h3>Size</h3><p>5</p>\", \"type\": \"circle\", \"name\": \"cube54_cluster3\", \"color\": 19}, {\"id\": \"\", \"size\": 2, \"tooltip\": \"<h3>Size</h3><p>3</p>\", \"type\": \"circle\", \"name\": \"cube63_cluster6\", \"color\": 14}, {\"id\": \"\", \"size\": 2, \"tooltip\": \"<h3>Size</h3><p>3</p>\", \"type\": \"circle\", \"name\": \"cube39_cluster3\", \"color\": 1}, {\"id\": \"\", \"size\": 2, \"tooltip\": \"<h3>Size</h3><p>4</p>\", \"type\": \"circle\", \"name\": \"cube44_cluster5\", \"color\": 16}, {\"id\": \"\", \"size\": 2, \"tooltip\": \"<h3>Size</h3><p>3</p>\", \"type\": \"circle\", \"name\": \"cube68_cluster6\", \"color\": 8}, {\"id\": \"\", \"size\": 6, \"tooltip\": \"<h3>Size</h3><p>328</p>\", \"type\": \"circle\", \"name\": \"cube40_cluster0\", \"color\": 10}, {\"id\": \"\", \"size\": 4, \"tooltip\": \"<h3>Size</h3><p>21</p>\", \"type\": \"circle\", \"name\": \"cube37_cluster3\", \"color\": 5}, {\"id\": \"\", \"size\": 4, \"tooltip\": \"<h3>Size</h3><p>45</p>\", \"type\": \"circle\", \"name\": \"cube88_cluster0\", \"color\": 14}, {\"id\": \"\", \"size\": 2, \"tooltip\": \"<h3>Size</h3><p>5</p>\", \"type\": \"circle\", \"name\": \"cube28_cluster10\", \"color\": 27}, {\"id\": \"\", \"size\": 3, \"tooltip\": \"<h3>Size</h3><p>13</p>\", \"type\": \"circle\", \"name\": \"cube62_cluster2\", \"color\": 22}, {\"id\": \"\", \"size\": 7, \"tooltip\": \"<h3>Size</h3><p>468</p>\", \"type\": \"circle\", \"name\": \"cube49_cluster2\", \"color\": 20}, {\"id\": \"\", \"size\": 3, \"tooltip\": \"<h3>Size</h3><p>12</p>\", \"type\": \"circle\", \"name\": \"cube39_cluster9\", \"color\": 21}, {\"id\": \"\", \"size\": 3, \"tooltip\": \"<h3>Size</h3><p>16</p>\", \"type\": \"circle\", \"name\": \"cube78_cluster13\", \"color\": 19}, {\"id\": \"\", \"size\": 3, \"tooltip\": \"<h3>Size</h3><p>18</p>\", \"type\": \"circle\", \"name\": \"cube37_cluster2\", \"color\": 6}, {\"id\": \"\", \"size\": 9, \"tooltip\": \"<h3>Size</h3><p>4756</p>\", \"type\": \"circle\", \"name\": \"cube47_cluster0\", \"color\": 15}, {\"id\": \"\", \"size\": 9, \"tooltip\": \"<h3>Size</h3><p>4426</p>\", \"type\": \"circle\", \"name\": \"cube57_cluster0\", \"color\": 16}, {\"id\": \"\", \"size\": 7, \"tooltip\": \"<h3>Size</h3><p>546</p>\", \"type\": \"circle\", \"name\": \"cube50_cluster1\", \"color\": 16}, {\"id\": \"\", \"size\": 2, \"tooltip\": \"<h3>Size</h3><p>4</p>\", \"type\": \"circle\", \"name\": \"cube39_cluster6\", \"color\": 11}, {\"id\": \"\", \"size\": 4, \"tooltip\": \"<h3>Size</h3><p>52</p>\", \"type\": \"circle\", \"name\": \"cube78_cluster5\", \"color\": 14}, {\"id\": \"\", \"size\": 3, \"tooltip\": \"<h3>Size</h3><p>9</p>\", \"type\": \"circle\", \"name\": \"cube78_cluster3\", \"color\": 13}, {\"id\": \"\", \"size\": 2, \"tooltip\": \"<h3>Size</h3><p>5</p>\", \"type\": \"circle\", \"name\": \"cube78_cluster11\", \"color\": 15}, {\"id\": \"\", \"size\": 2, \"tooltip\": \"<h3>Size</h3><p>3</p>\", \"type\": \"circle\", \"name\": \"cube23_cluster1\", \"color\": 14}, {\"id\": \"\", \"size\": 2, \"tooltip\": \"<h3>Size</h3><p>5</p>\", \"type\": \"circle\", \"name\": \"cube31_cluster10\", \"color\": 15}, {\"id\": \"\", \"size\": 2, \"tooltip\": \"<h3>Size</h3><p>5</p>\", \"type\": \"circle\", \"name\": \"cube35_cluster11\", \"color\": 21}, {\"id\": \"\", \"size\": 9, \"tooltip\": \"<h3>Size</h3><p>5254</p>\", \"type\": \"circle\", \"name\": \"cube33_cluster0\", \"color\": 10}, {\"id\": \"\", \"size\": 2, \"tooltip\": \"<h3>Size</h3><p>3</p>\", \"type\": \"circle\", \"name\": \"cube27_cluster7\", \"color\": 7}, {\"id\": \"\", \"size\": 6, \"tooltip\": \"<h3>Size</h3><p>166</p>\", \"type\": \"circle\", \"name\": \"cube62_cluster1\", \"color\": 22}, {\"id\": \"\", \"size\": 3, \"tooltip\": \"<h3>Size</h3><p>7</p>\", \"type\": \"circle\", \"name\": \"cube26_cluster1\", \"color\": 5}, {\"id\": \"\", \"size\": 2, \"tooltip\": \"<h3>Size</h3><p>4</p>\", \"type\": \"circle\", \"name\": \"cube28_cluster5\", \"color\": 11}, {\"id\": \"\", \"size\": 2, \"tooltip\": \"<h3>Size</h3><p>3</p>\", \"type\": \"circle\", \"name\": \"cube61_cluster11\", \"color\": 20}, {\"id\": \"\", \"size\": 4, \"tooltip\": \"<h3>Size</h3><p>30</p>\", \"type\": \"circle\", \"name\": \"cube24_cluster2\", \"color\": 10}, {\"id\": \"\", \"size\": 2, \"tooltip\": \"<h3>Size</h3><p>3</p>\", \"type\": \"circle\", \"name\": \"cube25_cluster8\", \"color\": 24}, {\"id\": \"\", \"size\": 2, \"tooltip\": \"<h3>Size</h3><p>5</p>\", \"type\": \"circle\", \"name\": \"cube73_cluster1\", \"color\": 14}, {\"id\": \"\", \"size\": 2, \"tooltip\": \"<h3>Size</h3><p>4</p>\", \"type\": \"circle\", \"name\": \"cube54_cluster4\", \"color\": 13}, {\"id\": \"\", \"size\": 2, \"tooltip\": \"<h3>Size</h3><p>5</p>\", \"type\": \"circle\", \"name\": \"cube64_cluster6\", \"color\": 26}, {\"id\": \"\", \"size\": 2, \"tooltip\": \"<h3>Size</h3><p>3</p>\", \"type\": \"circle\", \"name\": \"cube21_cluster9\", \"color\": 14}, {\"id\": \"\", \"size\": 5, \"tooltip\": \"<h3>Size</h3><p>79</p>\", \"type\": \"circle\", \"name\": \"cube51_cluster3\", \"color\": 13}, {\"id\": \"\", \"size\": 3, \"tooltip\": \"<h3>Size</h3><p>9</p>\", \"type\": \"circle\", \"name\": \"cube67_cluster3\", \"color\": 12}, {\"id\": \"\", \"size\": 2, \"tooltip\": \"<h3>Size</h3><p>5</p>\", \"type\": \"circle\", \"name\": \"cube28_cluster1\", \"color\": 5}, {\"id\": \"\", \"size\": 7, \"tooltip\": \"<h3>Size</h3><p>460</p>\", \"type\": \"circle\", \"name\": \"cube50_cluster0\", \"color\": 15}, {\"id\": \"\", \"size\": 2, \"tooltip\": \"<h3>Size</h3><p>3</p>\", \"type\": \"circle\", \"name\": \"cube37_cluster5\", \"color\": 15}, {\"id\": \"\", \"size\": 6, \"tooltip\": \"<h3>Size</h3><p>297</p>\", \"type\": \"circle\", \"name\": \"cube64_cluster2\", \"color\": 21}, {\"id\": \"\", \"size\": 6, \"tooltip\": \"<h3>Size</h3><p>301</p>\", \"type\": \"circle\", \"name\": \"cube34_cluster2\", \"color\": 11}, {\"id\": \"\", \"size\": 7, \"tooltip\": \"<h3>Size</h3><p>747</p>\", \"type\": \"circle\", \"name\": \"cube22_cluster0\", \"color\": 11}, {\"id\": \"\", \"size\": 2, \"tooltip\": \"<h3>Size</h3><p>3</p>\", \"type\": \"circle\", \"name\": \"cube39_cluster1\", \"color\": 0}, {\"id\": \"\", \"size\": 3, \"tooltip\": \"<h3>Size</h3><p>7</p>\", \"type\": \"circle\", \"name\": \"cube60_cluster3\", \"color\": 13}, {\"id\": \"\", \"size\": 2, \"tooltip\": \"<h3>Size</h3><p>4</p>\", \"type\": \"circle\", \"name\": \"cube76_cluster7\", \"color\": 17}, {\"id\": \"\", \"size\": 2, \"tooltip\": \"<h3>Size</h3><p>3</p>\", \"type\": \"circle\", \"name\": \"cube35_cluster7\", \"color\": 12}, {\"id\": \"\", \"size\": 2, \"tooltip\": \"<h3>Size</h3><p>3</p>\", \"type\": \"circle\", \"name\": \"cube71_cluster4\", \"color\": 12}, {\"id\": \"\", \"size\": 2, \"tooltip\": \"<h3>Size</h3><p>3</p>\", \"type\": \"circle\", \"name\": \"cube50_cluster5\", \"color\": 28}, {\"id\": \"\", \"size\": 2, \"tooltip\": \"<h3>Size</h3><p>4</p>\", \"type\": \"circle\", \"name\": \"cube77_cluster8\", \"color\": 13}, {\"id\": \"\", \"size\": 4, \"tooltip\": \"<h3>Size</h3><p>20</p>\", \"type\": \"circle\", \"name\": \"cube68_cluster1\", \"color\": 17}, {\"id\": \"\", \"size\": 7, \"tooltip\": \"<h3>Size</h3><p>962</p>\", \"type\": \"circle\", \"name\": \"cube65_cluster0\", \"color\": 13}, {\"id\": \"\", \"size\": 3, \"tooltip\": \"<h3>Size</h3><p>12</p>\", \"type\": \"circle\", \"name\": \"cube38_cluster2\", \"color\": 18}, {\"id\": \"\", \"size\": 3, \"tooltip\": \"<h3>Size</h3><p>7</p>\", \"type\": \"circle\", \"name\": \"cube26_cluster4\", \"color\": 5}, {\"id\": \"\", \"size\": 2, \"tooltip\": \"<h3>Size</h3><p>4</p>\", \"type\": \"circle\", \"name\": \"cube77_cluster2\", \"color\": 6}, {\"id\": \"\", \"size\": 7, \"tooltip\": \"<h3>Size</h3><p>693</p>\", \"type\": \"circle\", \"name\": \"cube44_cluster0\", \"color\": 16}, {\"id\": \"\", \"size\": 4, \"tooltip\": \"<h3>Size</h3><p>24</p>\", \"type\": \"circle\", \"name\": \"cube63_cluster3\", \"color\": 24}, {\"id\": \"\", \"size\": 3, \"tooltip\": \"<h3>Size</h3><p>9</p>\", \"type\": \"circle\", \"name\": \"cube31_cluster3\", \"color\": 9}, {\"id\": \"\", \"size\": 3, \"tooltip\": \"<h3>Size</h3><p>16</p>\", \"type\": \"circle\", \"name\": \"cube78_cluster1\", \"color\": 18}, {\"id\": \"\", \"size\": 3, \"tooltip\": \"<h3>Size</h3><p>7</p>\", \"type\": \"circle\", \"name\": \"cube61_cluster6\", \"color\": 12}, {\"id\": \"\", \"size\": 3, \"tooltip\": \"<h3>Size</h3><p>7</p>\", \"type\": \"circle\", \"name\": \"cube45_cluster4\", \"color\": 24}, {\"id\": \"\", \"size\": 4, \"tooltip\": \"<h3>Size</h3><p>44</p>\", \"type\": \"circle\", \"name\": \"cube36_cluster2\", \"color\": 17}, {\"id\": \"\", \"size\": 2, \"tooltip\": \"<h3>Size</h3><p>4</p>\", \"type\": \"circle\", \"name\": \"cube75_cluster6\", \"color\": 24}, {\"id\": \"\", \"size\": 3, \"tooltip\": \"<h3>Size</h3><p>15</p>\", \"type\": \"circle\", \"name\": \"cube35_cluster2\", \"color\": 18}, {\"id\": \"\", \"size\": 2, \"tooltip\": \"<h3>Size</h3><p>4</p>\", \"type\": \"circle\", \"name\": \"cube78_cluster4\", \"color\": 13}, {\"id\": \"\", \"size\": 3, \"tooltip\": \"<h3>Size</h3><p>8</p>\", \"type\": \"circle\", \"name\": \"cube17_cluster2\", \"color\": 3}, {\"id\": \"\", \"size\": 3, \"tooltip\": \"<h3>Size</h3><p>19</p>\", \"type\": \"circle\", \"name\": \"cube28_cluster8\", \"color\": 26}, {\"id\": \"\", \"size\": 8, \"tooltip\": \"<h3>Size</h3><p>2796</p>\", \"type\": \"circle\", \"name\": \"cube58_cluster1\", \"color\": 16}, {\"id\": \"\", \"size\": 3, \"tooltip\": \"<h3>Size</h3><p>9</p>\", \"type\": \"circle\", \"name\": \"cube64_cluster5\", \"color\": 25}, {\"id\": \"\", \"size\": 7, \"tooltip\": \"<h3>Size</h3><p>419</p>\", \"type\": \"circle\", \"name\": \"cube59_cluster2\", \"color\": 23}, {\"id\": \"\", \"size\": 2, \"tooltip\": \"<h3>Size</h3><p>3</p>\", \"type\": \"circle\", \"name\": \"cube25_cluster7\", \"color\": 18}, {\"id\": \"\", \"size\": 6, \"tooltip\": \"<h3>Size</h3><p>343</p>\", \"type\": \"circle\", \"name\": \"cube44_cluster2\", \"color\": 18}, {\"id\": \"\", \"size\": 4, \"tooltip\": \"<h3>Size</h3><p>21</p>\", \"type\": \"circle\", \"name\": \"cube76_cluster6\", \"color\": 23}, {\"id\": \"\", \"size\": 2, \"tooltip\": \"<h3>Size</h3><p>3</p>\", \"type\": \"circle\", \"name\": \"cube67_cluster10\", \"color\": 28}, {\"id\": \"\", \"size\": 4, \"tooltip\": \"<h3>Size</h3><p>34</p>\", \"type\": \"circle\", \"name\": \"cube35_cluster9\", \"color\": 19}, {\"id\": \"\", \"size\": 3, \"tooltip\": \"<h3>Size</h3><p>7</p>\", \"type\": \"circle\", \"name\": \"cube21_cluster2\", \"color\": 13}, {\"id\": \"\", \"size\": 3, \"tooltip\": \"<h3>Size</h3><p>10</p>\", \"type\": \"circle\", \"name\": \"cube58_cluster4\", \"color\": 7}, {\"id\": \"\", \"size\": 2, \"tooltip\": \"<h3>Size</h3><p>4</p>\", \"type\": \"circle\", \"name\": \"cube73_cluster0\", \"color\": 11}, {\"id\": \"\", \"size\": 2, \"tooltip\": \"<h3>Size</h3><p>4</p>\", \"type\": \"circle\", \"name\": \"cube35_cluster6\", \"color\": 12}, {\"id\": \"\", \"size\": 3, \"tooltip\": \"<h3>Size</h3><p>17</p>\", \"type\": \"circle\", \"name\": \"cube68_cluster5\", \"color\": 14}, {\"id\": \"\", \"size\": 2, \"tooltip\": \"<h3>Size</h3><p>4</p>\", \"type\": \"circle\", \"name\": \"cube32_cluster1\", \"color\": 9}, {\"id\": \"\", \"size\": 3, \"tooltip\": \"<h3>Size</h3><p>14</p>\", \"type\": \"circle\", \"name\": \"cube31_cluster8\", \"color\": 16}, {\"id\": \"\", \"size\": 7, \"tooltip\": \"<h3>Size</h3><p>424</p>\", \"type\": \"circle\", \"name\": \"cube66_cluster2\", \"color\": 18}, {\"id\": \"\", \"size\": 2, \"tooltip\": \"<h3>Size</h3><p>3</p>\", \"type\": \"circle\", \"name\": \"cube77_cluster0\", \"color\": 0}, {\"id\": \"\", \"size\": 2, \"tooltip\": \"<h3>Size</h3><p>3</p>\", \"type\": \"circle\", \"name\": \"cube26_cluster3\", \"color\": 10}, {\"id\": \"\", \"size\": 3, \"tooltip\": \"<h3>Size</h3><p>7</p>\", \"type\": \"circle\", \"name\": \"cube75_cluster0\", \"color\": 9}, {\"id\": \"\", \"size\": 8, \"tooltip\": \"<h3>Size</h3><p>1236</p>\", \"type\": \"circle\", \"name\": \"cube66_cluster0\", \"color\": 18}, {\"id\": \"\", \"size\": 3, \"tooltip\": \"<h3>Size</h3><p>13</p>\", \"type\": \"circle\", \"name\": \"cube39_cluster8\", \"color\": 13}, {\"id\": \"\", \"size\": 3, \"tooltip\": \"<h3>Size</h3><p>18</p>\", \"type\": \"circle\", \"name\": \"cube39_cluster12\", \"color\": 26}, {\"id\": \"\", \"size\": 5, \"tooltip\": \"<h3>Size</h3><p>55</p>\", \"type\": \"circle\", \"name\": \"cube61_cluster2\", \"color\": 13}, {\"id\": \"\", \"size\": 4, \"tooltip\": \"<h3>Size</h3><p>35</p>\", \"type\": \"circle\", \"name\": \"cube37_cluster4\", \"color\": 20}, {\"id\": \"\", \"size\": 9, \"tooltip\": \"<h3>Size</h3><p>3108</p>\", \"type\": \"circle\", \"name\": \"cube52_cluster0\", \"color\": 16}, {\"id\": \"\", \"size\": 3, \"tooltip\": \"<h3>Size</h3><p>11</p>\", \"type\": \"circle\", \"name\": \"cube77_cluster5\", \"color\": 16}, {\"id\": \"\", \"size\": 3, \"tooltip\": \"<h3>Size</h3><p>13</p>\", \"type\": \"circle\", \"name\": \"cube27_cluster5\", \"color\": 9}, {\"id\": \"\", \"size\": 2, \"tooltip\": \"<h3>Size</h3><p>6</p>\", \"type\": \"circle\", \"name\": \"cube60_cluster8\", \"color\": 28}, {\"id\": \"\", \"size\": 3, \"tooltip\": \"<h3>Size</h3><p>7</p>\", \"type\": \"circle\", \"name\": \"cube61_cluster8\", \"color\": 18}, {\"id\": \"\", \"size\": 2, \"tooltip\": \"<h3>Size</h3><p>3</p>\", \"type\": \"circle\", \"name\": \"cube61_cluster4\", \"color\": 18}, {\"id\": \"\", \"size\": 3, \"tooltip\": \"<h3>Size</h3><p>10</p>\", \"type\": \"circle\", \"name\": \"cube63_cluster4\", \"color\": 13}, {\"id\": \"\", \"size\": 2, \"tooltip\": \"<h3>Size</h3><p>6</p>\", \"type\": \"circle\", \"name\": \"cube17_cluster5\", \"color\": 7}, {\"id\": \"\", \"size\": 6, \"tooltip\": \"<h3>Size</h3><p>199</p>\", \"type\": \"circle\", \"name\": \"cube68_cluster3\", \"color\": 14}, {\"id\": \"\", \"size\": 3, \"tooltip\": \"<h3>Size</h3><p>12</p>\", \"type\": \"circle\", \"name\": \"cube71_cluster1\", \"color\": 19}, {\"id\": \"\", \"size\": 2, \"tooltip\": \"<h3>Size</h3><p>3</p>\", \"type\": \"circle\", \"name\": \"cube28_cluster11\", \"color\": 19}, {\"id\": \"\", \"size\": 3, \"tooltip\": \"<h3>Size</h3><p>13</p>\", \"type\": \"circle\", \"name\": \"cube26_cluster7\", \"color\": 9}, {\"id\": \"\", \"size\": 5, \"tooltip\": \"<h3>Size</h3><p>73</p>\", \"type\": \"circle\", \"name\": \"cube79_cluster0\", \"color\": 17}, {\"id\": \"\", \"size\": 2, \"tooltip\": \"<h3>Size</h3><p>3</p>\", \"type\": \"circle\", \"name\": \"cube16_cluster1\", \"color\": 14}, {\"id\": \"\", \"size\": 5, \"tooltip\": \"<h3>Size</h3><p>69</p>\", \"type\": \"circle\", \"name\": \"cube31_cluster11\", \"color\": 16}, {\"id\": \"\", \"size\": 2, \"tooltip\": \"<h3>Size</h3><p>3</p>\", \"type\": \"circle\", \"name\": \"cube70_cluster4\", \"color\": 12}, {\"id\": \"\", \"size\": 2, \"tooltip\": \"<h3>Size</h3><p>4</p>\", \"type\": \"circle\", \"name\": \"cube78_cluster6\", \"color\": 13}, {\"id\": \"\", \"size\": 2, \"tooltip\": \"<h3>Size</h3><p>4</p>\", \"type\": \"circle\", \"name\": \"cube58_cluster3\", \"color\": 3}, {\"id\": \"\", \"size\": 5, \"tooltip\": \"<h3>Size</h3><p>133</p>\", \"type\": \"circle\", \"name\": \"cube40_cluster1\", \"color\": 9}, {\"id\": \"\", \"size\": 4, \"tooltip\": \"<h3>Size</h3><p>26</p>\", \"type\": \"circle\", \"name\": \"cube61_cluster3\", \"color\": 10}, {\"id\": \"\", \"size\": 3, \"tooltip\": \"<h3>Size</h3><p>9</p>\", \"type\": \"circle\", \"name\": \"cube73_cluster2\", \"color\": 14}, {\"id\": \"\", \"size\": 4, \"tooltip\": \"<h3>Size</h3><p>24</p>\", \"type\": \"circle\", \"name\": \"cube22_cluster2\", \"color\": 13}, {\"id\": \"\", \"size\": 2, \"tooltip\": \"<h3>Size</h3><p>3</p>\", \"type\": \"circle\", \"name\": \"cube51_cluster5\", \"color\": 14}, {\"id\": \"\", \"size\": 3, \"tooltip\": \"<h3>Size</h3><p>9</p>\", \"type\": \"circle\", \"name\": \"cube74_cluster0\", \"color\": 25}, {\"id\": \"\", \"size\": 3, \"tooltip\": \"<h3>Size</h3><p>7</p>\", \"type\": \"circle\", \"name\": \"cube70_cluster2\", \"color\": 20}, {\"id\": \"\", \"size\": 2, \"tooltip\": \"<h3>Size</h3><p>3</p>\", \"type\": \"circle\", \"name\": \"cube35_cluster10\", \"color\": 19}, {\"id\": \"\", \"size\": 3, \"tooltip\": \"<h3>Size</h3><p>7</p>\", \"type\": \"circle\", \"name\": \"cube61_cluster10\", \"color\": 13}, {\"id\": \"\", \"size\": 2, \"tooltip\": \"<h3>Size</h3><p>6</p>\", \"type\": \"circle\", \"name\": \"cube24_cluster3\", \"color\": 9}, {\"id\": \"\", \"size\": 3, \"tooltip\": \"<h3>Size</h3><p>8</p>\", \"type\": \"circle\", \"name\": \"cube78_cluster7\", \"color\": 14}, {\"id\": \"\", \"size\": 2, \"tooltip\": \"<h3>Size</h3><p>5</p>\", \"type\": \"circle\", \"name\": \"cube28_cluster6\", \"color\": 17}, {\"id\": \"\", \"size\": 4, \"tooltip\": \"<h3>Size</h3><p>23</p>\", \"type\": \"circle\", \"name\": \"cube24_cluster0\", \"color\": 6}, {\"id\": \"\", \"size\": 3, \"tooltip\": \"<h3>Size</h3><p>16</p>\", \"type\": \"circle\", \"name\": \"cube79_cluster3\", \"color\": 19}, {\"id\": \"\", \"size\": 2, \"tooltip\": \"<h3>Size</h3><p>3</p>\", \"type\": \"circle\", \"name\": \"cube62_cluster4\", \"color\": 18}, {\"id\": \"\", \"size\": 2, \"tooltip\": \"<h3>Size</h3><p>4</p>\", \"type\": \"circle\", \"name\": \"cube39_cluster11\", \"color\": 22}, {\"id\": \"\", \"size\": 9, \"tooltip\": \"<h3>Size</h3><p>4133</p>\", \"type\": \"circle\", \"name\": \"cube45_cluster0\", \"color\": 13}, {\"id\": \"\", \"size\": 2, \"tooltip\": \"<h3>Size</h3><p>5</p>\", \"type\": \"circle\", \"name\": \"cube77_cluster6\", \"color\": 18}, {\"id\": \"\", \"size\": 4, \"tooltip\": \"<h3>Size</h3><p>20</p>\", \"type\": \"circle\", \"name\": \"cube40_cluster2\", \"color\": 12}, {\"id\": \"\", \"size\": 5, \"tooltip\": \"<h3>Size</h3><p>102</p>\", \"type\": \"circle\", \"name\": \"cube26_cluster0\", \"color\": 15}, {\"id\": \"\", \"size\": 2, \"tooltip\": \"<h3>Size</h3><p>3</p>\", \"type\": \"circle\", \"name\": \"cube78_cluster2\", \"color\": 15}, {\"id\": \"\", \"size\": 2, \"tooltip\": \"<h3>Size</h3><p>3</p>\", \"type\": \"circle\", \"name\": \"cube72_cluster1\", \"color\": 25}, {\"id\": \"\", \"size\": 9, \"tooltip\": \"<h3>Size</h3><p>3442</p>\", \"type\": \"circle\", \"name\": \"cube48_cluster0\", \"color\": 14}, {\"id\": \"\", \"size\": 2, \"tooltip\": \"<h3>Size</h3><p>6</p>\", \"type\": \"circle\", \"name\": \"cube30_cluster5\", \"color\": 6}, {\"id\": \"\", \"size\": 3, \"tooltip\": \"<h3>Size</h3><p>8</p>\", \"type\": \"circle\", \"name\": \"cube28_cluster0\", \"color\": 7}, {\"id\": \"\", \"size\": 2, \"tooltip\": \"<h3>Size</h3><p>3</p>\", \"type\": \"circle\", \"name\": \"cube75_cluster5\", \"color\": 21}, {\"id\": \"\", \"size\": 3, \"tooltip\": \"<h3>Size</h3><p>9</p>\", \"type\": \"circle\", \"name\": \"cube30_cluster0\", \"color\": 9}, {\"id\": \"\", \"size\": 2, \"tooltip\": \"<h3>Size</h3><p>4</p>\", \"type\": \"circle\", \"name\": \"cube51_cluster6\", \"color\": 15}, {\"id\": \"\", \"size\": 7, \"tooltip\": \"<h3>Size</h3><p>649</p>\", \"type\": \"circle\", \"name\": \"cube68_cluster0\", \"color\": 16}, {\"id\": \"\", \"size\": 2, \"tooltip\": \"<h3>Size</h3><p>5</p>\", \"type\": \"circle\", \"name\": \"cube25_cluster6\", \"color\": 23}, {\"id\": \"\", \"size\": 3, \"tooltip\": \"<h3>Size</h3><p>12</p>\", \"type\": \"circle\", \"name\": \"cube62_cluster3\", \"color\": 24}, {\"id\": \"\", \"size\": 2, \"tooltip\": \"<h3>Size</h3><p>3</p>\", \"type\": \"circle\", \"name\": \"cube73_cluster3\", \"color\": 25}, {\"id\": \"\", \"size\": 6, \"tooltip\": \"<h3>Size</h3><p>265</p>\", \"type\": \"circle\", \"name\": \"cube67_cluster5\", \"color\": 13}, {\"id\": \"\", \"size\": 3, \"tooltip\": \"<h3>Size</h3><p>10</p>\", \"type\": \"circle\", \"name\": \"cube16_cluster2\", \"color\": 20}, {\"id\": \"\", \"size\": 6, \"tooltip\": \"<h3>Size</h3><p>201</p>\", \"type\": \"circle\", \"name\": \"cube49_cluster4\", \"color\": 25}, {\"id\": \"\", \"size\": 2, \"tooltip\": \"<h3>Size</h3><p>3</p>\", \"type\": \"circle\", \"name\": \"cube71_cluster5\", \"color\": 23}, {\"id\": \"\", \"size\": 2, \"tooltip\": \"<h3>Size</h3><p>3</p>\", \"type\": \"circle\", \"name\": \"cube21_cluster8\", \"color\": 16}, {\"id\": \"\", \"size\": 4, \"tooltip\": \"<h3>Size</h3><p>48</p>\", \"type\": \"circle\", \"name\": \"cube76_cluster0\", \"color\": 17}, {\"id\": \"\", \"size\": 2, \"tooltip\": \"<h3>Size</h3><p>6</p>\", \"type\": \"circle\", \"name\": \"cube31_cluster5\", \"color\": 5}, {\"id\": \"\", \"size\": 5, \"tooltip\": \"<h3>Size</h3><p>138</p>\", \"type\": \"circle\", \"name\": \"cube39_cluster7\", \"color\": 20}, {\"id\": \"\", \"size\": 4, \"tooltip\": \"<h3>Size</h3><p>35</p>\", \"type\": \"circle\", \"name\": \"cube34_cluster6\", \"color\": 18}, {\"id\": \"\", \"size\": 3, \"tooltip\": \"<h3>Size</h3><p>10</p>\", \"type\": \"circle\", \"name\": \"cube76_cluster5\", \"color\": 16}, {\"id\": \"\", \"size\": 6, \"tooltip\": \"<h3>Size</h3><p>305</p>\", \"type\": \"circle\", \"name\": \"cube64_cluster0\", \"color\": 17}, {\"id\": \"\", \"size\": 7, \"tooltip\": \"<h3>Size</h3><p>494</p>\", \"type\": \"circle\", \"name\": \"cube59_cluster1\", \"color\": 9}, {\"id\": \"\", \"size\": 3, \"tooltip\": \"<h3>Size</h3><p>8</p>\", \"type\": \"circle\", \"name\": \"cube34_cluster5\", \"color\": 18}, {\"id\": \"\", \"size\": 8, \"tooltip\": \"<h3>Size</h3><p>2303</p>\", \"type\": \"circle\", \"name\": \"cube53_cluster1\", \"color\": 16}, {\"id\": \"\", \"size\": 2, \"tooltip\": \"<h3>Size</h3><p>3</p>\", \"type\": \"circle\", \"name\": \"cube22_cluster3\", \"color\": 10}, {\"id\": \"\", \"size\": 3, \"tooltip\": \"<h3>Size</h3><p>13</p>\", \"type\": \"circle\", \"name\": \"cube77_cluster4\", \"color\": 12}, {\"id\": \"\", \"size\": 8, \"tooltip\": \"<h3>Size</h3><p>1645</p>\", \"type\": \"circle\", \"name\": \"cube41_cluster0\", \"color\": 14}, {\"id\": \"\", \"size\": 2, \"tooltip\": \"<h3>Size</h3><p>4</p>\", \"type\": \"circle\", \"name\": \"cube77_cluster9\", \"color\": 13}, {\"id\": \"\", \"size\": 6, \"tooltip\": \"<h3>Size</h3><p>292</p>\", \"type\": \"circle\", \"name\": \"cube63_cluster0\", \"color\": 16}, {\"id\": \"\", \"size\": 7, \"tooltip\": \"<h3>Size</h3><p>814</p>\", \"type\": \"circle\", \"name\": \"cube66_cluster1\", \"color\": 17}, {\"id\": \"\", \"size\": 9, \"tooltip\": \"<h3>Size</h3><p>3244</p>\", \"type\": \"circle\", \"name\": \"cube46_cluster0\", \"color\": 14}, {\"id\": \"\", \"size\": 2, \"tooltip\": \"<h3>Size</h3><p>5</p>\", \"type\": \"circle\", \"name\": \"cube77_cluster7\", \"color\": 22}, {\"id\": \"\", \"size\": 3, \"tooltip\": \"<h3>Size</h3><p>15</p>\", \"type\": \"circle\", \"name\": \"cube21_cluster3\", \"color\": 9}, {\"id\": \"\", \"size\": 3, \"tooltip\": \"<h3>Size</h3><p>12</p>\", \"type\": \"circle\", \"name\": \"cube67_cluster4\", \"color\": 23}, {\"id\": \"\", \"size\": 3, \"tooltip\": \"<h3>Size</h3><p>8</p>\", \"type\": \"circle\", \"name\": \"cube35_cluster8\", \"color\": 18}, {\"id\": \"\", \"size\": 2, \"tooltip\": \"<h3>Size</h3><p>3</p>\", \"type\": \"circle\", \"name\": \"cube75_cluster1\", \"color\": 10}, {\"id\": \"\", \"size\": 3, \"tooltip\": \"<h3>Size</h3><p>8</p>\", \"type\": \"circle\", \"name\": \"cube44_cluster4\", \"color\": 13}, {\"id\": \"\", \"size\": 2, \"tooltip\": \"<h3>Size</h3><p>4</p>\", \"type\": \"circle\", \"name\": \"cube66_cluster3\", \"color\": 13}, {\"id\": \"\", \"size\": 3, \"tooltip\": \"<h3>Size</h3><p>7</p>\", \"type\": \"circle\", \"name\": \"cube88_cluster3\", \"color\": 15}, {\"id\": \"\", \"size\": 2, \"tooltip\": \"<h3>Size</h3><p>3</p>\", \"type\": \"circle\", \"name\": \"cube12_cluster0\", \"color\": 3}, {\"id\": \"\", \"size\": 2, \"tooltip\": \"<h3>Size</h3><p>4</p>\", \"type\": \"circle\", \"name\": \"cube62_cluster7\", \"color\": 26}, {\"id\": \"\", \"size\": 4, \"tooltip\": \"<h3>Size</h3><p>28</p>\", \"type\": \"circle\", \"name\": \"cube78_cluster8\", \"color\": 15}, {\"id\": \"\", \"size\": 2, \"tooltip\": \"<h3>Size</h3><p>4</p>\", \"type\": \"circle\", \"name\": \"cube60_cluster7\", \"color\": 28}, {\"id\": \"\", \"size\": 3, \"tooltip\": \"<h3>Size</h3><p>10</p>\", \"type\": \"circle\", \"name\": \"cube64_cluster4\", \"color\": 25}, {\"id\": \"\", \"size\": 2, \"tooltip\": \"<h3>Size</h3><p>3</p>\", \"type\": \"circle\", \"name\": \"cube26_cluster12\", \"color\": 12}, {\"id\": \"\", \"size\": 8, \"tooltip\": \"<h3>Size</h3><p>1844</p>\", \"type\": \"circle\", \"name\": \"cube54_cluster1\", \"color\": 19}, {\"id\": \"\", \"size\": 2, \"tooltip\": \"<h3>Size</h3><p>3</p>\", \"type\": \"circle\", \"name\": \"cube78_cluster9\", \"color\": 14}, {\"id\": \"\", \"size\": 2, \"tooltip\": \"<h3>Size</h3><p>4</p>\", \"type\": \"circle\", \"name\": \"cube74_cluster1\", \"color\": 24}, {\"id\": \"\", \"size\": 2, \"tooltip\": \"<h3>Size</h3><p>6</p>\", \"type\": \"circle\", \"name\": \"cube25_cluster2\", \"color\": 19}, {\"id\": \"\", \"size\": 7, \"tooltip\": \"<h3>Size</h3><p>830</p>\", \"type\": \"circle\", \"name\": \"cube58_cluster5\", \"color\": 19}, {\"id\": \"\", \"size\": 2, \"tooltip\": \"<h3>Size</h3><p>3</p>\", \"type\": \"circle\", \"name\": \"cube22_cluster5\", \"color\": 12}, {\"id\": \"\", \"size\": 2, \"tooltip\": \"<h3>Size</h3><p>5</p>\", \"type\": \"circle\", \"name\": \"cube22_cluster1\", \"color\": 10}, {\"id\": \"\", \"size\": 2, \"tooltip\": \"<h3>Size</h3><p>5</p>\", \"type\": \"circle\", \"name\": \"cube28_cluster2\", \"color\": 8}, {\"id\": \"\", \"size\": 5, \"tooltip\": \"<h3>Size</h3><p>89</p>\", \"type\": \"circle\", \"name\": \"cube60_cluster2\", \"color\": 12}, {\"id\": \"\", \"size\": 5, \"tooltip\": \"<h3>Size</h3><p>105</p>\", \"type\": \"circle\", \"name\": \"cube37_cluster1\", \"color\": 12}, {\"id\": \"\", \"size\": 6, \"tooltip\": \"<h3>Size</h3><p>240</p>\", \"type\": \"circle\", \"name\": \"cube34_cluster0\", \"color\": 9}], \"links\": [{\"width\": 1, \"source\": 0, \"target\": 46}, {\"width\": 1, \"source\": 1, \"target\": 184}, {\"width\": 1, \"source\": 1, \"target\": 384}, {\"width\": 1, \"source\": 108, \"target\": 202}, {\"width\": 1, \"source\": 108, \"target\": 236}, {\"width\": 1, \"source\": 108, \"target\": 287}, {\"width\": 1, \"source\": 2, \"target\": 219}, {\"width\": 1, \"source\": 211, \"target\": 212}, {\"width\": 1, \"source\": 211, \"target\": 288}, {\"width\": 1, \"source\": 211, \"target\": 359}, {\"width\": 1, \"source\": 211, \"target\": 378}, {\"width\": 1, \"source\": 211, \"target\": 383}, {\"width\": 1, \"source\": 212, \"target\": 297}, {\"width\": 1, \"source\": 212, \"target\": 339}, {\"width\": 1, \"source\": 212, \"target\": 358}, {\"width\": 1, \"source\": 212, \"target\": 359}, {\"width\": 1, \"source\": 212, \"target\": 378}, {\"width\": 1, \"source\": 213, \"target\": 307}, {\"width\": 1, \"source\": 215, \"target\": 277}, {\"width\": 1, \"source\": 110, \"target\": 121}, {\"width\": 1, \"source\": 110, \"target\": 151}, {\"width\": 1, \"source\": 110, \"target\": 221}, {\"width\": 1, \"source\": 110, \"target\": 374}, {\"width\": 1, \"source\": 111, \"target\": 298}, {\"width\": 1, \"source\": 238, \"target\": 249}, {\"width\": 1, \"source\": 238, \"target\": 312}, {\"width\": 1, \"source\": 113, \"target\": 182}, {\"width\": 1, \"source\": 6, \"target\": 38}, {\"width\": 1, \"source\": 6, \"target\": 108}, {\"width\": 1, \"source\": 6, \"target\": 133}, {\"width\": 1, \"source\": 6, \"target\": 174}, {\"width\": 1, \"source\": 6, \"target\": 192}, {\"width\": 1, \"source\": 6, \"target\": 202}, {\"width\": 1, \"source\": 6, \"target\": 236}, {\"width\": 1, \"source\": 6, \"target\": 255}, {\"width\": 1, \"source\": 9, \"target\": 20}, {\"width\": 1, \"source\": 9, \"target\": 113}, {\"width\": 1, \"source\": 9, \"target\": 172}, {\"width\": 1, \"source\": 9, \"target\": 182}, {\"width\": 1, \"source\": 9, \"target\": 329}, {\"width\": 1, \"source\": 195, \"target\": 200}, {\"width\": 1, \"source\": 10, \"target\": 87}, {\"width\": 1, \"source\": 269, \"target\": 374}, {\"width\": 1, \"source\": 269, \"target\": 384}, {\"width\": 1, \"source\": 13, \"target\": 152}, {\"width\": 1, \"source\": 78, \"target\": 213}, {\"width\": 1, \"source\": 15, \"target\": 108}, {\"width\": 1, \"source\": 15, \"target\": 236}, {\"width\": 1, \"source\": 15, \"target\": 287}, {\"width\": 1, \"source\": 117, \"target\": 330}, {\"width\": 1, \"source\": 223, \"target\": 289}, {\"width\": 1, \"source\": 275, \"target\": 295}, {\"width\": 1, \"source\": 239, \"target\": 253}, {\"width\": 1, \"source\": 239, \"target\": 319}, {\"width\": 1, \"source\": 20, \"target\": 113}, {\"width\": 1, \"source\": 20, \"target\": 182}, {\"width\": 1, \"source\": 121, \"target\": 165}, {\"width\": 1, \"source\": 121, \"target\": 349}, {\"width\": 1, \"source\": 121, \"target\": 374}, {\"width\": 1, \"source\": 122, \"target\": 278}, {\"width\": 1, \"source\": 122, \"target\": 355}, {\"width\": 1, \"source\": 216, \"target\": 234}, {\"width\": 1, \"source\": 216, \"target\": 354}, {\"width\": 1, \"source\": 349, \"target\": 374}, {\"width\": 1, \"source\": 128, \"target\": 211}, {\"width\": 1, \"source\": 128, \"target\": 259}, {\"width\": 1, \"source\": 128, \"target\": 359}, {\"width\": 1, \"source\": 21, \"target\": 380}, {\"width\": 1, \"source\": 22, \"target\": 32}, {\"width\": 1, \"source\": 22, \"target\": 350}, {\"width\": 1, \"source\": 24, \"target\": 221}, {\"width\": 1, \"source\": 24, \"target\": 352}, {\"width\": 1, \"source\": 135, \"target\": 194}, {\"width\": 1, \"source\": 242, \"target\": 315}, {\"width\": 1, \"source\": 26, \"target\": 78}, {\"width\": 1, \"source\": 27, \"target\": 341}, {\"width\": 1, \"source\": 272, \"target\": 347}, {\"width\": 1, \"source\": 131, \"target\": 137}, {\"width\": 1, \"source\": 133, \"target\": 202}, {\"width\": 1, \"source\": 133, \"target\": 255}, {\"width\": 1, \"source\": 39, \"target\": 105}, {\"width\": 1, \"source\": 30, \"target\": 238}, {\"width\": 1, \"source\": 30, \"target\": 249}, {\"width\": 1, \"source\": 30, \"target\": 312}, {\"width\": 1, \"source\": 190, \"target\": 212}, {\"width\": 1, \"source\": 190, \"target\": 344}, {\"width\": 1, \"source\": 190, \"target\": 358}, {\"width\": 1, \"source\": 182, \"target\": 329}, {\"width\": 1, \"source\": 140, \"target\": 172}, {\"width\": 1, \"source\": 140, \"target\": 199}, {\"width\": 1, \"source\": 140, \"target\": 241}, {\"width\": 1, \"source\": 140, \"target\": 264}, {\"width\": 1, \"source\": 140, \"target\": 329}, {\"width\": 1, \"source\": 140, \"target\": 331}, {\"width\": 1, \"source\": 207, \"target\": 267}, {\"width\": 1, \"source\": 207, \"target\": 346}, {\"width\": 1, \"source\": 35, \"target\": 289}, {\"width\": 1, \"source\": 138, \"target\": 270}, {\"width\": 1, \"source\": 138, \"target\": 280}, {\"width\": 1, \"source\": 139, \"target\": 181}, {\"width\": 1, \"source\": 139, \"target\": 323}, {\"width\": 1, \"source\": 162, \"target\": 261}, {\"width\": 1, \"source\": 162, \"target\": 365}, {\"width\": 1, \"source\": 37, \"target\": 196}, {\"width\": 1, \"source\": 25, \"target\": 350}, {\"width\": 1, \"source\": 141, \"target\": 335}, {\"width\": 1, \"source\": 243, \"target\": 324}, {\"width\": 1, \"source\": 143, \"target\": 382}, {\"width\": 1, \"source\": 144, \"target\": 209}, {\"width\": 1, \"source\": 144, \"target\": 248}, {\"width\": 1, \"source\": 144, \"target\": 320}, {\"width\": 1, \"source\": 42, \"target\": 104}, {\"width\": 1, \"source\": 42, \"target\": 140}, {\"width\": 1, \"source\": 42, \"target\": 329}, {\"width\": 1, \"source\": 43, \"target\": 92}, {\"width\": 1, \"source\": 43, \"target\": 183}, {\"width\": 1, \"source\": 43, \"target\": 296}, {\"width\": 1, \"source\": 44, \"target\": 314}, {\"width\": 1, \"source\": 245, \"target\": 304}, {\"width\": 1, \"source\": 247, \"target\": 262}, {\"width\": 1, \"source\": 47, \"target\": 122}, {\"width\": 1, \"source\": 204, \"target\": 370}, {\"width\": 1, \"source\": 36, \"target\": 61}, {\"width\": 1, \"source\": 36, \"target\": 99}, {\"width\": 1, \"source\": 36, \"target\": 122}, {\"width\": 1, \"source\": 36, \"target\": 289}, {\"width\": 1, \"source\": 36, \"target\": 355}, {\"width\": 1, \"source\": 151, \"target\": 221}, {\"width\": 1, \"source\": 151, \"target\": 227}, {\"width\": 1, \"source\": 23, \"target\": 60}, {\"width\": 1, \"source\": 344, \"target\": 358}, {\"width\": 1, \"source\": 95, \"target\": 360}, {\"width\": 1, \"source\": 183, \"target\": 296}, {\"width\": 1, \"source\": 54, \"target\": 382}, {\"width\": 1, \"source\": 157, \"target\": 166}, {\"width\": 1, \"source\": 123, \"target\": 161}, {\"width\": 1, \"source\": 185, \"target\": 280}, {\"width\": 1, \"source\": 260, \"target\": 376}, {\"width\": 1, \"source\": 57, \"target\": 58}, {\"width\": 1, \"source\": 57, \"target\": 151}, {\"width\": 1, \"source\": 57, \"target\": 221}, {\"width\": 1, \"source\": 57, \"target\": 227}, {\"width\": 1, \"source\": 57, \"target\": 316}, {\"width\": 1, \"source\": 351, \"target\": 363}, {\"width\": 1, \"source\": 163, \"target\": 284}, {\"width\": 1, \"source\": 297, \"target\": 339}, {\"width\": 1, \"source\": 297, \"target\": 378}, {\"width\": 1, \"source\": 164, \"target\": 224}, {\"width\": 1, \"source\": 61, \"target\": 240}, {\"width\": 1, \"source\": 248, \"target\": 320}, {\"width\": 1, \"source\": 352, \"target\": 357}, {\"width\": 1, \"source\": 63, \"target\": 72}, {\"width\": 1, \"source\": 63, \"target\": 211}, {\"width\": 1, \"source\": 63, \"target\": 212}, {\"width\": 1, \"source\": 63, \"target\": 288}, {\"width\": 1, \"source\": 63, \"target\": 378}, {\"width\": 1, \"source\": 202, \"target\": 236}, {\"width\": 1, \"source\": 202, \"target\": 255}, {\"width\": 1, \"source\": 168, \"target\": 190}, {\"width\": 1, \"source\": 168, \"target\": 211}, {\"width\": 1, \"source\": 168, \"target\": 212}, {\"width\": 1, \"source\": 168, \"target\": 358}, {\"width\": 1, \"source\": 168, \"target\": 359}, {\"width\": 1, \"source\": 66, \"target\": 190}, {\"width\": 1, \"source\": 66, \"target\": 344}, {\"width\": 1, \"source\": 66, \"target\": 358}, {\"width\": 1, \"source\": 169, \"target\": 353}, {\"width\": 1, \"source\": 170, \"target\": 379}, {\"width\": 1, \"source\": 67, \"target\": 112}, {\"width\": 1, \"source\": 68, \"target\": 97}, {\"width\": 1, \"source\": 68, \"target\": 145}, {\"width\": 1, \"source\": 68, \"target\": 177}, {\"width\": 1, \"source\": 68, \"target\": 323}, {\"width\": 1, \"source\": 68, \"target\": 326}, {\"width\": 1, \"source\": 68, \"target\": 359}, {\"width\": 1, \"source\": 171, \"target\": 242}, {\"width\": 1, \"source\": 171, \"target\": 315}, {\"width\": 1, \"source\": 172, \"target\": 182}, {\"width\": 1, \"source\": 172, \"target\": 329}, {\"width\": 1, \"source\": 69, \"target\": 134}, {\"width\": 1, \"source\": 70, \"target\": 121}, {\"width\": 1, \"source\": 70, \"target\": 349}, {\"width\": 1, \"source\": 70, \"target\": 374}, {\"width\": 1, \"source\": 71, \"target\": 146}, {\"width\": 1, \"source\": 265, \"target\": 329}, {\"width\": 1, \"source\": 265, \"target\": 335}, {\"width\": 1, \"source\": 270, \"target\": 280}, {\"width\": 1, \"source\": 72, \"target\": 211}, {\"width\": 1, \"source\": 72, \"target\": 288}, {\"width\": 1, \"source\": 236, \"target\": 287}, {\"width\": 1, \"source\": 73, \"target\": 171}, {\"width\": 1, \"source\": 73, \"target\": 242}, {\"width\": 1, \"source\": 73, \"target\": 315}, {\"width\": 1, \"source\": 74, \"target\": 253}, {\"width\": 1, \"source\": 75, \"target\": 333}, {\"width\": 1, \"source\": 261, \"target\": 365}, {\"width\": 1, \"source\": 221, \"target\": 227}, {\"width\": 1, \"source\": 76, \"target\": 203}, {\"width\": 1, \"source\": 77, \"target\": 345}, {\"width\": 1, \"source\": 116, \"target\": 128}, {\"width\": 1, \"source\": 116, \"target\": 263}, {\"width\": 1, \"source\": 79, \"target\": 240}, {\"width\": 1, \"source\": 339, \"target\": 378}, {\"width\": 1, \"source\": 82, \"target\": 138}, {\"width\": 1, \"source\": 82, \"target\": 270}, {\"width\": 1, \"source\": 82, \"target\": 280}, {\"width\": 1, \"source\": 83, \"target\": 150}, {\"width\": 1, \"source\": 186, \"target\": 325}, {\"width\": 1, \"source\": 290, \"target\": 348}, {\"width\": 1, \"source\": 286, \"target\": 341}, {\"width\": 1, \"source\": 233, \"target\": 308}, {\"width\": 1, \"source\": 323, \"target\": 359}, {\"width\": 1, \"source\": 191, \"target\": 216}, {\"width\": 1, \"source\": 191, \"target\": 234}, {\"width\": 1, \"source\": 191, \"target\": 354}, {\"width\": 1, \"source\": 249, \"target\": 283}, {\"width\": 1, \"source\": 249, \"target\": 312}, {\"width\": 1, \"source\": 234, \"target\": 354}, {\"width\": 1, \"source\": 291, \"target\": 300}, {\"width\": 1, \"source\": 289, \"target\": 355}, {\"width\": 1, \"source\": 118, \"target\": 267}, {\"width\": 1, \"source\": 118, \"target\": 301}, {\"width\": 1, \"source\": 88, \"target\": 187}, {\"width\": 1, \"source\": 89, \"target\": 90}, {\"width\": 1, \"source\": 89, \"target\": 185}, {\"width\": 1, \"source\": 89, \"target\": 280}, {\"width\": 1, \"source\": 89, \"target\": 284}, {\"width\": 1, \"source\": 89, \"target\": 323}, {\"width\": 1, \"source\": 89, \"target\": 359}, {\"width\": 1, \"source\": 90, \"target\": 139}, {\"width\": 1, \"source\": 90, \"target\": 181}, {\"width\": 1, \"source\": 90, \"target\": 185}, {\"width\": 1, \"source\": 90, \"target\": 238}, {\"width\": 1, \"source\": 90, \"target\": 249}, {\"width\": 1, \"source\": 90, \"target\": 280}, {\"width\": 1, \"source\": 90, \"target\": 323}, {\"width\": 1, \"source\": 90, \"target\": 359}, {\"width\": 1, \"source\": 91, \"target\": 119}, {\"width\": 1, \"source\": 92, \"target\": 183}, {\"width\": 1, \"source\": 92, \"target\": 296}, {\"width\": 1, \"source\": 305, \"target\": 356}, {\"width\": 1, \"source\": 159, \"target\": 311}, {\"width\": 1, \"source\": 201, \"target\": 274}, {\"width\": 1, \"source\": 97, \"target\": 128}, {\"width\": 1, \"source\": 97, \"target\": 177}, {\"width\": 1, \"source\": 97, \"target\": 211}, {\"width\": 1, \"source\": 97, \"target\": 323}, {\"width\": 1, \"source\": 97, \"target\": 326}, {\"width\": 1, \"source\": 97, \"target\": 359}, {\"width\": 1, \"source\": 181, \"target\": 193}, {\"width\": 1, \"source\": 181, \"target\": 238}, {\"width\": 1, \"source\": 181, \"target\": 249}, {\"width\": 1, \"source\": 181, \"target\": 323}, {\"width\": 1, \"source\": 99, \"target\": 127}, {\"width\": 1, \"source\": 99, \"target\": 226}, {\"width\": 1, \"source\": 99, \"target\": 289}, {\"width\": 1, \"source\": 99, \"target\": 355}, {\"width\": 1, \"source\": 177, \"target\": 326}, {\"width\": 1, \"source\": 101, \"target\": 162}, {\"width\": 1, \"source\": 101, \"target\": 261}, {\"width\": 1, \"source\": 101, \"target\": 365}, {\"width\": 1, \"source\": 102, \"target\": 349}, {\"width\": 1, \"source\": 103, \"target\": 110}, {\"width\": 1, \"source\": 103, \"target\": 121}, {\"width\": 1, \"source\": 103, \"target\": 151}, {\"width\": 1, \"source\": 103, \"target\": 221}, {\"width\": 1, \"source\": 103, \"target\": 374}, {\"width\": 1, \"source\": 175, \"target\": 340}, {\"width\": 1, \"source\": 209, \"target\": 248}, {\"width\": 1, \"source\": 209, \"target\": 320}, {\"width\": 1, \"source\": 104, \"target\": 140}, {\"width\": 1, \"source\": 104, \"target\": 329}]}\\' style=\"display:none\"></div>\\n  <meta charset=\"utf-8\">\\n  <meta name=\"generator\" content=\"KeplerMapper\">\\n  <title>keplermapper of features [\\'Yield\\', \\'Silt\\'] | KeplerMapper</title>\\n\\n  <link rel=\"icon\" type=\"image/png\" href=\"https://i.imgur.com/2eZcTZn.png\" />\\n  <link href=\\'https://fonts.googleapis.com/css?family=Roboto+Mono:700,300\\' rel=\\'stylesheet\\' type=\\'text/css\\'>\\n  <style> * {\\n  margin: 0;\\n  padding: 0;\\n}\\n\\nhtml, body {\\n  height: 100%%;\\n}\\n\\nbody {\\n  font-family: \"Roboto Mono\", \"Helvetica\", sans-serif;\\n  font-size: 14px;\\n}\\n\\n#display {\\n  color: #95A5A6;\\n  background: #212121;\\n}\\n\\n#print {\\n  color: #000;\\n  background: #FFF;\\n}\\n\\nh1 {\\n  font-size: 21px;\\n  font-weight: 300;\\n  font-weight: 300;\\n}\\n\\nh2 {\\n  font-size: 18px;\\n  padding-bottom: 20px;\\n  font-weight: 300;\\n}\\n\\nh3 {\\n  font-size: 14px;\\n  font-weight: 700;\\n  text-transform: uppercase;\\n}\\n\\n#meta h3 {\\n  float: left;\\n  padding-right: 8px;\\n}\\n\\np, #tooltip h3, ol, ul, table {\\n  padding-bottom: 20px;\\n}\\n\\nol, ul {\\n  padding-left: 20px;\\n}\\n\\nol b {\\n  display: block;\\n}\\n\\na {\\n  color: #16a085;\\n  text-decoration: none;\\n}\\n\\na:hover {\\n  color: #2ecc71;\\n}\\n\\n#header {\\n  height: 35px;\\n  padding: 20px;\\n  position: absolute;\\n  top: 0;\\n  left: 0;\\n  right: 0;\\n  z-index: 9999;\\n}\\n\\n#display #header {\\n  background: #111111;\\n  box-shadow: 0px 0px 4px #000\\n}\\n\\n#print #header {\\n  background: #FFF;\\n}\\n\\n#canvas {\\n  height: 100%%;\\n  width: 100%%;\\n  display: block;\\n}\\n\\n#tooltip {\\n  position: absolute;\\n  top: 75px;\\n  left: 0;\\n  bottom: 0;\\n  width: 320px;\\n  padding: 20px;\\n  overflow: auto;\\n  display: none;\\n}\\n\\n#display #tooltip {\\n  background: #191919;\\n}\\n\\n#print #tooltip {\\n  background: #FFF;\\n}\\n\\n#meta {\\n  position: absolute;\\n  top: 75px;\\n  right: 0;\\n  bottom: 0;\\n  width: 320px;\\n  padding: 20px;\\n  overflow: auto;\\n}\\n\\n#display #meta {\\n  background: #191919;\\n}\\n\\n#print #meta {\\n  background: #FFF;\\n}\\n\\n#meta_control, #tooltip_control {\\n  position: absolute;\\n  right: 20px;\\n}\\n\\n#meta::-webkit-scrollbar, #tooltip::-webkit-scrollbar {\\n  width: 1em;\\n}\\n\\n#meta::-webkit-scrollbar-track, #tooltip::-webkit-scrollbar-track {\\n  -webkit-box-shadow: inset 0 0 6px rgba(0, 0, 0, 0.3);\\n}\\n\\n#meta::-webkit-scrollbar-thumb, #tooltip::-webkit-scrollbar-thumb {\\n  background-color: darkgrey;\\n  outline: 1px solid slategrey;\\n}\\n\\n#histogram {\\n  display: block;\\n  height: 100px;\\n  padding-top: 50px;\\n  clear: both;\\n}\\n\\n#display #histogram {\\n  opacity: 0.68;\\n}\\n\\n.bin {\\n  width: 30px;\\n  float: left;\\n}\\n\\n.bin div {\\n  font-size: 10px;\\n  display: block;\\n  width: 35px;\\n  margin-top: -30px;\\n  text-align: right;\\n  margin-left: -3px;\\n  -webkit-transform: rotate(-90deg);\\n  -moz-transform: rotate(-90deg);\\n  -ms-transform: rotate(-90deg);\\n  -o-transform: rotate(-90deg);\\n}\\n\\n#histogram:hover {\\n  opacity: 1.;\\n}\\n\\n#display .circle {\\n  stroke-opacity: 0.18;\\n  stroke-width: 7px;\\n  stroke: #000;\\n}\\n\\n#print .circle {\\n  stroke-opacity: 1;\\n  stroke-width: 2px;\\n  stroke: #000;\\n  stroke-linecap: round;\\n}\\n\\n#print .link {\\n  stroke: #000;\\n}\\n\\n#display .link {\\n  stroke: rgba(160, 160, 160, 0.5);\\n}\\n\\ntable {\\n  border-collapse: collapse;\\n  display: table;\\n  width: 100%%;\\n  margin-bottom: 20px;\\n}\\n\\ntd, th {\\n  padding: 5px;\\n  text-align: left;\\n}\\n\\n#display th {\\n  background: #212121\\n}\\n\\ntd {\\n  border-bottom: 1px solid #111;\\n}\\n </style>\\n\\n</head>\\n\\n<body id=\"display\">\\n  <div id=\"header\">\\n    <noscript><b>Requires JavaScript (d3.js) for visualizations</b></noscript>\\n    <h1>keplermapper of features [\\'Yield\\', \\'Silt\\']</h1>\\n  </div>\\n  <div id=\"canvas\">\\n\\n  </div>\\n  <div id=\"tooltip\">\\n    <div id=\"tooltip_control\">\\n      <a href=\"#\"><small>[-]</small></a>\\n    </div>\\n    <h2>Cluster Meta</h2>\\n    <div id=\"tooltip_content\">\\n\\n    </div>\\n  </div>\\n  <div id=\"meta\">\\n    <div id=\"meta_control\">\\n      <a href=\"#\"><small>[-]</small></a>\\n    </div>\\n    <h2>Graph Meta</h2> <h3>Nodes</h3><p>385</p><h3>Edges</h3><p>272</p><h3>Total Samples</h3><p>97749</p><h3>Unique Samples</h3><p>81520</p>   <h3>Distribution</h3>\\n  <div id=\"histogram\">\\n    <div class=\"bin\" style=\"height: 5px; background:#FF2800\">\\n      <div>0.0%</div>\\n    </div>\\n    <div class=\"bin\" style=\"height: 5px; background:#FF6400\">\\n      <div>0.1%</div>\\n    </div>\\n    <div class=\"bin\" style=\"height: 5px; background:#FFa000\">\\n      <div>0.2%</div>\\n    </div>\\n    <div class=\"bin\" style=\"height: 31px; background:#FFdc00\">\\n      <div>11.9%</div>\\n    </div>\\n    <div class=\"bin\" style=\"height: 51px; background:#b0ff00\">\\n      <div>21.0%</div>\\n    </div>\\n    <div class=\"bin\" style=\"height: 105px; background:#00ff36\">\\n      <div>45.1%</div>\\n    </div>\\n    <div class=\"bin\" style=\"height: 42px; background:#00e4ff\">\\n      <div>17.0%</div>\\n    </div>\\n    <div class=\"bin\" style=\"height: 12px; background:#0084ff\">\\n      <div>3.3%</div>\\n    </div>\\n    <div class=\"bin\" style=\"height: 7px; background:#0022ff\">\\n      <div>1.0%</div>\\n    </div>\\n    <div class=\"bin\" style=\"height: 5px; background:#0300ff\">\\n      <div>0.3%</div>\\n    </div>\\n  </div>\\n  </div>\\n\\n  <script src=\"https://cdnjs.cloudflare.com/ajax/libs/d3/3.5.5/d3.min.js\"></script>\\n\\n  <script>// Height and width settings\\nvar canvas_height = window.innerHeight - 5;\\ndocument.getElementById(\"canvas\").style.height = canvas_height + \"px\";\\nvar width = document.getElementById(\"canvas\").offsetWidth;\\nvar height = document.getElementById(\"canvas\").offsetHeight;\\nvar w = width;\\nvar h = height;\\n\\n// We draw the graph in SVG\\nvar svg = d3.select(\"#canvas\").append(\"svg\")\\n          .attr(\"width\", width)\\n          .attr(\"height\", height);\\n\\nvar focus_node = null, highlight_node = null;\\nvar text_center = false;\\nvar outline = false;\\n\\n// Size for zooming\\nvar size = d3.scale.pow().exponent(1)\\n           .domain([1,100])\\n           .range([8,24]);\\n\\n// Show/Hide Functionality\\nd3.select(\"#tooltip_control\").on(\"click\", function() {\\n  d3.select(\"#tooltip\").style(\"display\", \"none\");\\n});\\nd3.select(\"#meta_control\").on(\"click\", function() {\\n  d3.select(\"#meta\").style(\"display\", \"none\");\\n});\\n\\n// Color settings: Ordinal Scale of [\"0\"-\"30\"] hot-to-cold\\nvar color = d3.scale.ordinal()\\n            .domain([\"0\",\"1\", \"2\", \"3\", \"4\", \"5\", \"6\", \"7\", \"8\", \"9\", \"10\",\\n                     \"11\", \"12\", \"13\",\"14\",\"15\",\"16\",\"17\",\"18\",\"19\",\"20\",\\n                     \"21\",\"22\",\"23\",\"24\",\"25\",\"26\",\"27\",\"28\",\"29\",\"30\"])\\n            .range([\"#FF0000\",\"#FF1400\",\"#FF2800\",\"#FF3c00\",\"#FF5000\",\"#FF6400\",\\n                    \"#FF7800\",\"#FF8c00\",\"#FFa000\",\"#FFb400\",\"#FFc800\",\"#FFdc00\",\\n                    \"#FFf000\",\"#fdff00\",\"#b0ff00\",\"#65ff00\",\"#17ff00\",\"#00ff36\",\\n                    \"#00ff83\",\"#00ffd0\",\"#00e4ff\",\"#00c4ff\",\"#00a4ff\",\"#00a4ff\",\\n                    \"#0084ff\",\"#0064ff\",\"#0044ff\",\"#0022ff\",\"#0002ff\",\"#0100ff\",\\n                    \"#0300ff\",\"#0500ff\"]);\\n// Force settings\\nvar force = d3.layout.force()\\n            .linkDistance(5)\\n            .gravity(0.2)\\n            .charge(-1200)\\n            .size([w,h]);\\n\\n// Variety of variable inits\\nvar highlight_color = \"blue\";\\nvar highlight_trans = 0.1;\\nvar default_node_color = \"#ccc\";\\nvar default_node_color = \"rgba(160,160,160, 0.5)\";\\nvar default_link_color = \"rgba(160,160,160, 0.5)\";\\nvar nominal_base_node_size = 8;\\nvar nominal_text_size = 15;\\nvar max_text_size = 24;\\nvar nominal_stroke = 1.0;\\nvar max_stroke = 4.5;\\nvar max_base_node_size = 36;\\nvar min_zoom = 0.1;\\nvar max_zoom = 7;\\nvar zoom = d3.behavior.zoom().scaleExtent([min_zoom,max_zoom]);\\nvar g = svg.append(\"g\");\\n\\nsvg.style(\"cursor\",\"move\");\\n\\nvar graph = JSON.parse(document.getElementById(\"json_graph\").dataset.graph);\\n\\nforce\\n  .nodes(graph.nodes)\\n  .links(graph.links)\\n  .start();\\n\\nvar link = g.selectAll(\".link\")\\n            .data(graph.links)\\n            .enter().append(\"line\")\\n              .attr(\"class\", \"link\")\\n              .style(\"stroke-width\", function(d) { return d.w * nominal_stroke; })\\n              .style(\"stroke-width\", function(d) { return d.w * nominal_stroke; })\\n              //.style(\"stroke\", function(d) {\\n              //  if (isNumber(d.score) && d.score>=0) return color(d.score);\\n              //  else return default_link_color; })\\n\\nvar node = g.selectAll(\".node\")\\n            .data(graph.nodes)\\n            .enter().append(\"g\")\\n              .attr(\"class\", \"node\")\\n              .call(force.drag);\\n\\nnode.on(\"dblclick.zoom\", function(d) { d3.event.stopPropagation();\\n  var dcx = (window.innerWidth/2-d.x*zoom.scale());\\n  var dcy = (window.innerHeight/2-d.y*zoom.scale());\\n  zoom.translate([dcx,dcy]);\\n  g.attr(\"transform\", \"translate(\"+ dcx + \",\" + dcy  + \")scale(\" + zoom.scale() + \")\");\\n});\\n\\nvar tocolor = \"fill\";\\nvar towhite = \"stroke\";\\nif (outline) {\\n  tocolor = \"stroke\";\\n  towhite = \"fill\";\\n}\\n\\n// Drop-shadow Filter\\nvar svg = d3.select(\"svg\");\\nvar defs = svg.append(\"defs\");\\nvar dropShadowFilter = defs.append(\\'svg:filter\\')\\n  .attr(\\'id\\', \\'drop-shadow\\')\\n  .attr(\\'filterUnits\\', \"userSpaceOnUse\")\\n  .attr(\\'width\\', \\'250%\\')\\n  .attr(\\'height\\', \\'250%\\');\\ndropShadowFilter.append(\\'svg:feGaussianBlur\\')\\n  .attr(\\'in\\', \\'SourceGraphic\\')\\n  .attr(\\'stdDeviation\\', 12)\\n  .attr(\\'result\\', \\'blur-out\\');\\ndropShadowFilter.append(\\'svg:feColorMatrix\\')\\n  .attr(\\'in\\', \\'blur-out\\')\\n  .attr(\\'type\\', \\'hueRotate\\')\\n  .attr(\\'values\\', 0)\\n  .attr(\\'result\\', \\'color-out\\');\\ndropShadowFilter.append(\\'svg:feOffset\\')\\n  .attr(\\'in\\', \\'color-out\\')\\n  .attr(\\'dx\\', 0)\\n  .attr(\\'dy\\', 0)\\n  .attr(\\'result\\', \\'the-shadow\\');\\ndropShadowFilter.append(\\'svg:feComponentTransfer\\')\\n  .attr(\\'type\\', \\'linear\\')\\n  .attr(\\'slope\\', 0.2)\\n  .attr(\\'result\\', \\'shadow-opacity\\');\\ndropShadowFilter.append(\\'svg:feBlend\\')\\n  .attr(\\'in\\', \\'SourceGraphic\\')\\n  .attr(\\'in2\\', \\'the-shadow\\')\\n  .attr(\\'mode\\', \\'normal\\');\\n\\nvar circle = node.append(\"path\")\\n  .attr(\"d\", d3.svg.symbol()\\n    .size(function(d) { return d.size * 50; })\\n    .type(function(d) { return d.type; }))\\n  .attr(\"class\", \"circle\")\\n  .style(tocolor, function(d) {\\n    return color(d.color);});\\n//.style(\"filter\", \"url(#drop-shadow)\");\\n\\nvar text = g.selectAll(\".text\")\\n  .data(graph.nodes)\\n  .enter().append(\"text\")\\n    .attr(\"dy\", \".35em\")\\n    .style(\"font-family\", \"Roboto\")\\n    .style(\"font-weight\", \"400\")\\n    .style(\"color\", \"#2C3E50\")\\n    .style(\"font-size\", nominal_text_size + \"px\");\\n\\nif (text_center) {\\n  text.text(function(d) { return d.id; })\\n    .style(\"text-anchor\", \"middle\");\\n} else {\\n  text.attr(\"dx\", function(d) {return (size(d.size)||nominal_base_node_size);})\\n    .text(function(d) { return \\'\\\\u2002\\'+d.id; });\\n}\\n\\n// Mouse events\\nnode.on(\"mouseover\", function(d) {\\n  set_highlight(d);\\n  console.log(\"node hober\");\\n\\n  d3.select(\"#tooltip\").style(\"display\", \"block\");\\n  d3.select(\"#tooltip_content\").html(d.tooltip + \"<br/>\");\\n  }).on(\"mousedown\", function(d) {\\n    d3.event.stopPropagation();\\n    focus_node = d;\\n    if (highlight_node === null) set_highlight(d)\\n  }).on(\"mouseout\", function(d) {\\n    console.log(\"mouseout\");\\n    exit_highlight();\\n  });\\n\\n  d3.select(window).on(\"mouseup\", function() {\\n    if (focus_node!==null){\\n      focus_node = null;\\n    }\\n    if (highlight_node === null) exit_highlight();\\n});\\n\\n// Node highlighting logic\\nfunction exit_highlight(){\\n  highlight_node = null;\\n  if (focus_node===null){\\n    svg.style(\"cursor\",\"move\");\\n  }\\n}\\n\\nfunction set_highlight(d){\\n  svg.style(\"cursor\",\"pointer\");\\n  if (focus_node!==null) d = focus_node;\\n}\\n\\n// Zoom logic\\nzoom.on(\"zoom\", function() {\\nvar stroke = nominal_stroke;\\nvar base_radius = nominal_base_node_size;\\nif (nominal_base_node_size*zoom.scale()>max_base_node_size) {\\n  base_radius = max_base_node_size/zoom.scale();}\\ncircle.attr(\"d\", d3.svg.symbol()\\n  .size(function(d) { return d.size * 50; })\\n  .type(function(d) { return d.type; }))\\nif (!text_center) text.attr(\"dx\", function(d) {\\n  return (size(d.size)*base_radius/nominal_base_node_size||base_radius); });\\n\\nvar text_size = nominal_text_size;\\nif (nominal_text_size*zoom.scale()>max_text_size) {\\n  text_size = max_text_size/zoom.scale(); }\\ntext.style(\"font-size\",text_size + \"px\");\\n\\ng.attr(\"transform\", \"translate(\" + d3.event.translate + \")scale(\" + d3.event.scale + \")\");\\n});\\n\\nsvg.call(zoom);\\nresize();\\nd3.select(window).on(\"resize\", resize);\\n\\n// Animation per tick\\nforce.on(\"tick\", function() {\\nnode.attr(\"transform\", function(d) { return \"translate(\" + d.x + \",\" + d.y + \")\"; });\\ntext.attr(\"transform\", function(d) { return \"translate(\" + d.x + \",\" + d.y + \")\"; });\\nlink.attr(\"x1\", function(d) { return d.source.x; })\\n  .attr(\"y1\", function(d) { return d.source.y; })\\n  .attr(\"x2\", function(d) { return d.target.x; })\\n  .attr(\"y2\", function(d) { return d.target.y; });\\nnode.attr(\"cx\", function(d) { return d.x; })\\n  .attr(\"cy\", function(d) { return d.y; });\\n});\\n\\n// Resizing window and redraws\\nfunction resize() {\\n  var width = window.innerWidth, height = window.innerHeight;\\n  var width = document.getElementById(\"canvas\").offsetWidth;\\n  var height = document.getElementById(\"canvas\").offsetHeight;\\n  svg.attr(\"width\", width).attr(\"height\", height);\\n\\n  force.size([force.size()[0]+(width-w)/zoom.scale(),\\n              force.size()[1]+(height-h)/zoom.scale()]).resume();\\n    w = width;\\n    h = height;\\n}\\n\\nfunction isNumber(n) {\\n  return !isNaN(parseFloat(n)) && isFinite(n);\\n}\\n\\n// Key press events\\nwindow.addEventListener(\"keydown\", function (event) {\\nif (event.defaultPrevented) {\\n  return; // Do nothing if the event was already processed\\n}\\nswitch (event.key) {\\n  case \"s\":\\n    // Do something for \"s\" key press.\\n    node.style(\"filter\", \"url(#drop-shadow)\");\\n    break;\\n  case \"c\":\\n    // Do something for \"s\" key press.\\n    node.style(\"filter\", null);\\n    break;\\n  case \"p\":\\n    // Do something for \"p\" key press.\\n    d3.select(\"body\").attr(\\'id\\', null).attr(\\'id\\', \"print\")\\n    break;\\n  case \"d\":\\n    // Do something for \"d\" key press.\\n    d3.select(\"body\").attr(\\'id\\', null).attr(\\'id\\', \"display\")\\n    break;\\n  case \"z\":\\n    force.gravity(0.0)\\n         .charge(0.0);\\n    resize();\\n    break\\n  case \"m\":\\n    force.gravity(0.07)\\n         .charge(-1);\\n    resize();\\n    break\\n  case \"e\":\\n    force.gravity(0.4)\\n         .charge(-600);\\n\\n    resize();\\n    break\\n  default:\\n    return; // Quit when this doesn\\'t handle the key event.\\n}\\n// Cancel the default action to avoid it being handled twice\\nevent.preventDefault();\\n}, true);\\n</script>\\n</body>\\n\\n</html>'"
      ]
     },
     "execution_count": 8,
     "metadata": {},
     "output_type": "execute_result"
    }
   ],
   "source": [
    "# MORE VISUALIZATION OPTIONAL\n",
    "\n",
    "# Import the class\n",
    "import kmapper as km\n",
    "from sklearn.manifold import TSNE\n",
    "\n",
    "# Some sample data\n",
    "from sklearn import datasets\n",
    "# data, labels = datasets.make_circles(n_samples=5000, noise=0.03, factor=0.3)\n",
    "# print(data)\n",
    "# print(labels)\n",
    "\n",
    "columns_to_visualize= ['Yield', 'Silt']\n",
    "\n",
    "# Initialize\n",
    "mapper = km.KeplerMapper(verbose=1)\n",
    "\n",
    "data, labels = datasets.make_circles(n_samples=5000, noise=0.03, factor=0.3)\n",
    "print(data[0])\n",
    "X_kepler = np.asarray(X_kepler)\n",
    "\n",
    "# Fit to and transform the data\n",
    "projected_data = mapper.fit_transform(X_kepler, projection=[0,1]) # X-Y axis\n",
    "\n",
    "# Create dictionary called 'graph' with nodes, edges and meta-information\n",
    "graph = mapper.map(projected_data, X_kepler, nr_cubes=10)\n",
    "\n",
    "# Visualize it\n",
    "mapper.visualize(graph, path_html=\"keplermapper.html\",\n",
    "                 inverse_X_names=['Yield' 'Silt'],\n",
    "                 title=\"keplermapper of features %s\" % ([x for x in cols]))"
   ]
  },
  {
   "cell_type": "code",
   "execution_count": null,
   "metadata": {},
   "outputs": [],
   "source": [
    "# IT COULDN'T HURT TO SEE THE FINAL SHAPES\n",
    "\n",
    "# print(X_train.describe())\n",
    "print(X_train.head())\n",
    "# print(y_train.describe())\n",
    "print(y_train.head())\n",
    "print(X_train.shape)\n",
    "print(y_train.shape)"
   ]
  },
  {
   "cell_type": "code",
   "execution_count": null,
   "metadata": {},
   "outputs": [],
   "source": [
    "from sklearn.ensemble import RandomForestRegressor\n",
    "regr = RandomForestRegressor(n_estimators=10, max_depth=20, random_state=0, verbose=1)\n",
    "regr.fit(X_train, y_train)\n",
    "preds = regr.predict(X_test)\n",
    "\n",
    "errors = np.absolute(((preds - y_test) / y_test) * 100)\n",
    "# erros = \n",
    "print(errors)\n",
    "print(np.mean(errors))"
   ]
  },
  {
   "cell_type": "code",
   "execution_count": null,
   "metadata": {},
   "outputs": [],
   "source": [
    "# THIS WILL ONLY WORK WITH THE BUCKET METHOD\n",
    "\n",
    "from sklearn.ensemble import RandomForestClassifier\n",
    "regr = RandomForestClassifier(n_estimators=10, max_depth=20, random_state=0, verbose=1)\n",
    "regr.fit(X_train, y_train)\n",
    "preds = regr.predict(X_test)\n",
    "\n",
    "from sklearn.metrics import accuracy_score\n",
    "\n",
    "print(accuracy_score(y_test, preds))"
   ]
  },
  {
   "cell_type": "code",
   "execution_count": null,
   "metadata": {},
   "outputs": [],
   "source": [
    "# GET OUTPUT OF FEATURE IMPORTANCE\n",
    "\n",
    "feature_importances = regr.feature_importances_\n",
    "feature_importances = pd.Series(feature_importances)\n",
    "feature_importance_df = pd.DataFrame({'feature': X_train.columns,'feature_importance': feature_importances})\n",
    "feature_importance_df = feature_importance_df.sort_values(by=['feature_importance'])\n",
    "for index, row in feature_importance_df.iterrows():\n",
    "    print(row['feature'], 'has importance: ', row['feature_importance'])\n",
    "# for feature_importance in regr.feature_importances_:\n",
    "    \n",
    "print(errors.describe())"
   ]
  },
  {
   "cell_type": "code",
   "execution_count": null,
   "metadata": {},
   "outputs": [],
   "source": [
    "import numpy as np\n",
    "from sklearn import linear_model\n",
    "from sklearn import svm\n",
    "from sklearn.metrics import accuracy_score\n",
    "from sklearn.neural_network import MLPRegressor\n",
    "\n",
    "from sklearn.feature_selection import RFECV\n",
    "\n",
    "classifiers = [\n",
    "    svm.SVR(),\n",
    "    MLPRegressor(solver='lbfgs', alpha=1e-5,\n",
    "                     hidden_layer_sizes=(5, 2), random_state=1),\n",
    "#     linear_model.SGDRegressor(),\n",
    "#     linear_model.BayesianRidge(),\n",
    "#     linear_model.LassoLars(),\n",
    "#     linear_model.ARDRegression(),\n",
    "#     linear_model.ARDRegression(),\n",
    "    linear_model.PassiveAggressiveRegressor(),\n",
    "    linear_model.TheilSenRegressor(),\n",
    "    linear_model.LinearRegression()]\n",
    "\n",
    "\n",
    "\n",
    "\n",
    "# estimator = svm.SVR(kernel=\"linear\")\n",
    "\n",
    "# selector = RFECV(estimator, step=1, cv=5, verbose=1)\n",
    "# selector = selector.fit(X_train, y_train)\n",
    "# selector.support_ \n",
    "# # array([ True,  True,  True,  True,  True,\n",
    "# #         False, False, False, False, False], dtype=bool)\n",
    "# selector.ranking_\n",
    "# # array([1, 1, 1, 1, 1, 6, 4, 3, 2, 5])\n",
    "\n",
    "\n",
    "#     print(np.sum(preds - y_test))\n",
    "#     print(clf.predict(X_test),'\\n')\n",
    "#     print(y_test)\n",
    "#     print('accuracy score:', accuracy_score(y_test, clf.predict(X_test)), '\\n')\n"
   ]
  },
  {
   "cell_type": "code",
   "execution_count": null,
   "metadata": {},
   "outputs": [],
   "source": [
    "for item in classifiers:\n",
    "    print(item)\n",
    "    clf = item\n",
    "    clf.fit(X_train, y_train)\n",
    "    preds = clf.predict(X_test)\n",
    "    errors = np.absolute(((preds - y_test) / y_test) * 100)\n",
    "    print(errors)\n",
    "    print(np.mean(errors))"
   ]
  },
  {
   "cell_type": "code",
   "execution_count": null,
   "metadata": {},
   "outputs": [],
   "source": [
    "from sklearn.discriminant_analysis import LinearDiscriminantAnalysis\n",
    "from sklearn import tree\n",
    "classifier = tree.DecisionTreeClassifier()\n",
    "classifier.fit(X_train, y_train)"
   ]
  },
  {
   "cell_type": "code",
   "execution_count": null,
   "metadata": {},
   "outputs": [],
   "source": [
    "import numpy as np\n",
    "import matplotlib.pyplot as plt\n",
    "from matplotlib.colors import ListedColormap\n",
    "from sklearn.model_selection import train_test_split\n",
    "from sklearn.preprocessing import StandardScaler\n",
    "from sklearn.datasets import make_moons, make_circles, make_classification\n",
    "from sklearn.neural_network import MLPClassifier\n",
    "from sklearn.neighbors import KNeighborsClassifier\n",
    "from sklearn.svm import SVC\n",
    "from sklearn.gaussian_process import GaussianProcessClassifier\n",
    "from sklearn.gaussian_process.kernels import RBF\n",
    "from sklearn.tree import DecisionTreeClassifier\n",
    "from sklearn.ensemble import RandomForestClassifier, AdaBoostClassifier\n",
    "from sklearn.naive_bayes import GaussianNB\n",
    "from sklearn.discriminant_analysis import QuadraticDiscriminantAnalysis\n",
    "\n",
    "classifiers = [\n",
    "#     KNeighborsClassifier(3),\n",
    "#     SVC(kernel=\"linear\", C=0.025),\n",
    "    SVC(gamma=2, C=1),\n",
    "#     GaussianProcessClassifier(1.0 * RBF(1.0)),\n",
    "#     DecisionTreeClassifier(max_depth=5),\n",
    "    RandomForestClassifier(max_depth=5, n_estimators=10, max_features=1),\n",
    "    MLPClassifier(alpha=1),\n",
    "    AdaBoostClassifier(),\n",
    "    GaussianNB(),\n",
    "    QuadraticDiscriminantAnalysis()]\n",
    "from sklearn.metrics import accuracy_score\n",
    "for item in classifiers:\n",
    "    print(item)\n",
    "    clf = item\n",
    "    clf.fit(X_train, y_train)\n",
    "    preds = clf.predict(X_test)\n",
    "    print(accuracy_score(y_test, preds))\n",
    "#     errors = np.absolute(((preds - y_test) / y_test) * 100)\n",
    "#     print(errors)\n",
    "#     print(np.mean(errors))"
   ]
  },
  {
   "cell_type": "code",
   "execution_count": null,
   "metadata": {},
   "outputs": [],
   "source": [
    "\n",
    "from keras.models import Sequential\n",
    "from keras.layers import Dense\n",
    "from sklearn import datasets\n",
    "import numpy\n",
    "# fix random seed for reproducibility\n",
    "numpy.random.seed(7)\n",
    "# load pima price dataset\n",
    "dataset = datasets.load_boston()\n",
    "# split into input (X) and output (Y) variables\n",
    "# X = dataset[:,0:8]\n",
    "# Y = dataset[:,8]\n",
    "# create model\n",
    "model = Sequential()\n",
    "model.add(Dense(12, input_dim=12, activation='relu'))\n",
    "model.add(Dense(8, activation='relu'))\n",
    "# model.add(Dense(1, activation='sigmoid'))\n",
    "\n",
    "model.add(Dense(1, activation='linear'))\n",
    "model.compile(loss='mse', optimizer='adam')\n",
    "# model.fit(X, y, epochs=1000, verbose=0)\n",
    "\n",
    "# Compile model\n",
    "# model.compile(loss='binary_crossentropy', optimizer='adam', metrics=['accuracy'])\n",
    "# Fit the model\n",
    "model.fit(X_train, y_train, epochs=150, batch_size=10)\n",
    "# evaluate the model\n",
    "scores = model.evaluate(X_train, y_train)\n",
    "print(\"\\n%s: %.2f%%\" % (model.metrics_names[1], scores[1]*100))"
   ]
  },
  {
   "cell_type": "code",
   "execution_count": null,
   "metadata": {},
   "outputs": [],
   "source": [
    "import numpy\n",
    "import matplotlib.pyplot as plt\n",
    "from pandas import read_csv\n",
    "import math\n",
    "from keras.models import Sequential\n",
    "from keras.layers import Dense\n",
    "from keras.layers import LSTM\n",
    "from sklearn.preprocessing import MinMaxScaler\n",
    "from sklearn.metrics import mean_squared_error\n",
    "# # convert an array of values into a dataset matrix\n",
    "# def create_dataset(dataset, look_back=1):\n",
    "# \tdataX, dataY = [], []\n",
    "# \tfor i in range(len(dataset)-look_back-1):\n",
    "# \t\ta = dataset[i:(i+look_back), 0]\n",
    "# \t\tdataX.append(a)\n",
    "# \t\tdataY.append(dataset[i + look_back, 0])\n",
    "# \treturn numpy.array(dataX), numpy.array(dataY)\n",
    "# # fix random seed for reproducibility\n",
    "# numpy.random.seed(7)\n",
    "# # load the dataset\n",
    "# # dataframe = read_csv('Syngenta/Syngenta_2017/Experiment_dataset.csv', engine='python', skipfooter=3)\n",
    "# dataset = dataframe.values\n",
    "# dataset = dataset.astype('float32')\n",
    "# # normalize the dataset\n",
    "# scaler = MinMaxScaler(feature_range=(0, 1))\n",
    "# dataset = scaler.fit_transform(dataset)\n",
    "# # split into train and test sets\n",
    "# train_size = int(len(dataset) * 0.67)\n",
    "# test_size = len(dataset) - train_size\n",
    "# train, test = dataset[0:train_size,:], dataset[train_size:len(dataset),:]\n",
    "# # reshape into X=t and Y=t+1\n",
    "look_back = 12\n",
    "# trainX, trainY = create_dataset(train, look_back)\n",
    "# testX, testY = create_dataset(test, look_back)\n",
    "# # reshape input to be [samples, time steps, features]\n",
    "# trainX = numpy.reshape(trainX, (trainX.shape[0], 1, trainX.shape[1]))\n",
    "# testX = numpy.reshape(testX, (testX.shape[0], 1, testX.shape[1]))\n",
    "# create and fit the LSTM network\n",
    "model = Sequential()\n",
    "model.add(LSTM(4, input_shape=(8203, look_back)))\n",
    "model.add(Dense(1))\n",
    "model.compile(loss='mean_squared_error', optimizer='adam')\n",
    "model.fit(X_train, y_train, epochs=100, batch_size=1, verbose=2)\n",
    "# make predictions\n",
    "trainPredict = model.predict(X_train)\n",
    "testPredict = model.predict(X_test)\n",
    "# invert predictions\n",
    "trainPredict = scaler.inverse_transform(trainPredict)\n",
    "trainY = scaler.inverse_transform([trainY])\n",
    "testPredict = scaler.inverse_transform(testPredict)\n",
    "testY = scaler.inverse_transform([testY])\n",
    "# calculate root mean squared error\n",
    "trainScore = math.sqrt(mean_squared_error(trainY[0], trainPredict[:,0]))\n",
    "print('Train Score: %.2f RMSE' % (trainScore))\n",
    "testScore = math.sqrt(mean_squared_error(testY[0], testPredict[:,0]))\n",
    "print('Test Score: %.2f RMSE' % (testScore))\n",
    "# shift train predictions for plotting\n",
    "trainPredictPlot = numpy.empty_like(dataset)\n",
    "trainPredictPlot[:, :] = numpy.nan\n",
    "trainPredictPlot[look_back:len(trainPredict)+look_back, :] = trainPredict\n",
    "# shift test predictions for plotting\n",
    "testPredictPlot = numpy.empty_like(dataset)\n",
    "testPredictPlot[:, :] = numpy.nan\n",
    "testPredictPlot[len(trainPredict)+(look_back*2)+1:len(dataset)-1, :] = testPredict\n",
    "# plot baseline and predictions\n",
    "plt.plot(scaler.inverse_transform(dataset))\n",
    "plt.plot(trainPredictPlot)\n",
    "plt.plot(testPredictPlot)\n",
    "plt.show()"
   ]
  }
 ],
 "metadata": {
  "kernelspec": {
   "display_name": "Python 3",
   "language": "python",
   "name": "python3"
  },
  "language_info": {
   "codemirror_mode": {
    "name": "ipython",
    "version": 3
   },
   "file_extension": ".py",
   "mimetype": "text/x-python",
   "name": "python",
   "nbconvert_exporter": "python",
   "pygments_lexer": "ipython3",
   "version": "3.5.2"
  }
 },
 "nbformat": 4,
 "nbformat_minor": 2
}
